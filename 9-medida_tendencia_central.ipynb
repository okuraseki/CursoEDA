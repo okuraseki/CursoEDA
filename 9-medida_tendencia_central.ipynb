{
 "cells": [
  {
   "cell_type": "markdown",
   "metadata": {},
   "source": [
    "## No se puede predecir el comportamiento individual, pero si el comportamiento promedio.\n",
    "\n",
    "- #### El teorema de los grandes numeros: dice que (bajo ciertas condiciones generales) la media de n variables aleatorias se aproxima a la media de las n medias:\n",
    "- #### El teorema del limite central: cuando el tamaño de la muestra es lo suficientemente grande, la distribucion de las medias sigue aproximadamente una distibucion normal\n",
    "- #### Medidas estadisticas:\n",
    "    - #### La media: es la media aritmetica del conjunto, suma de n numero y division en n. El valor promedio\n",
    "    - #### La mediana: es el valor que se encuentra justo en el medio , cuando los datos se ordenan de menor a mayor.   \n",
    "    - #### La moda: es el valor que aparece con mayor frecuencia en un conjunto de datos. \n",
    "    - #### Min y max: valor min/max de un conjunto de datos\n",
    "\n"
   ]
  }
 ],
 "metadata": {
  "kernelspec": {
   "display_name": "envData",
   "language": "python",
   "name": "python3"
  },
  "language_info": {
   "name": "python",
   "version": "3.11.8"
  }
 },
 "nbformat": 4,
 "nbformat_minor": 2
}
