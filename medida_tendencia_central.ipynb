{
 "cells": [
  {
   "cell_type": "markdown",
   "metadata": {},
   "source": [
    "No se puede predecir el comportamiento individual, pero si el comportamiento promedio.\n",
    "\n",
    "La de los grandes números:\n",
    "- Dice que (bajo ciertas condiciones generales) la media de n variables aleatorias se aproxima a la media de las n medias:\n",
    "    - "
   ]
  }
 ],
 "metadata": {
  "kernelspec": {
   "display_name": "envData",
   "language": "python",
   "name": "python3"
  },
  "language_info": {
   "name": "python",
   "version": "3.11.8"
  }
 },
 "nbformat": 4,
 "nbformat_minor": 2
}
