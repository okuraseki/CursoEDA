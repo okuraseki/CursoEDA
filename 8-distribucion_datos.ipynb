{
 "cells": [
  {
   "cell_type": "markdown",
   "metadata": {},
   "source": [
    "Las variables pueden ser continuas o discretas:\n",
    "- Continuas:\n",
    "    Son las que pueden tomar cualquier valor dentro de un rango. \n",
    "    -   Temperaturass, tiempo\n",
    "\n",
    "- Discretas:\n",
    "    No puede tomar valores intermedios entre 2 dados\n",
    "    -   Numero empleados, numero hijos, (no puedes tener 0,3 hijos)"
   ]
  },
  {
   "cell_type": "markdown",
   "metadata": {},
   "source": [
    "Tipos de distribuciones:\n",
    "-   Continuas:\n",
    "    - uniforme continua\n",
    "    - normal(curva de campana)\n",
    "    - exponencial\n",
    "    - gamma\n",
    "    - beta\n",
    "\n",
    "-   Discreta:\n",
    "    - uniforme discreta\n",
    "    - Bernoulli\n",
    "    - binomio / negativo\n",
    "    - Poisson"
   ]
  },
  {
   "cell_type": "code",
   "execution_count": null,
   "metadata": {},
   "outputs": [],
   "source": [
    "# Binomino   discreto           Discreta uniforme\n",
    "#        #                      \n",
    "#      # # # \n",
    "#    # # # # #                  # # # # # # # #\n",
    "#  # # # # # # #                # # # # # # # #\n",
    "#  # # # # # # #                # # # # # # # #\n",
    "#  # # # # # # #                # # # # # # # #\n",
    "##################              "
   ]
  },
  {
   "cell_type": "markdown",
   "metadata": {},
   "source": [
    "Como desterminar la distribucion\n",
    "\n",
    "- Realiza una representacion grafica de tus datos\n",
    "- Descarta primero lo que no puede ser\n",
    "    - Si hay algun pico en el conjunto de datos, no puede ser una distribucion uniforme discreta\n",
    "    - Si los datos tienen mas de un pico, no es Poisson o binomial\n",
    "    - Si tiene una sola curva, no hay picos secundarios y tiene una pequeña pendiente en cada lado, podria\n",
    "    ser una distribucion Poisson o gamma. Pero no podra ser una distribucion uniforme discreta"
   ]
  }
 ],
 "metadata": {
  "kernelspec": {
   "display_name": "envData",
   "language": "python",
   "name": "python3"
  },
  "language_info": {
   "name": "python",
   "version": "3.11.8"
  }
 },
 "nbformat": 4,
 "nbformat_minor": 2
}
