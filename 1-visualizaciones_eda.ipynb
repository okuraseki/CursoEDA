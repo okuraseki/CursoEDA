{
 "cells": [
  {
   "cell_type": "code",
   "execution_count": 2,
   "metadata": {},
   "outputs": [],
   "source": [
    "#Set de datos publico, univerisdad de california\n",
    "zoo_data = 'https://archive.ics.uci.edu/ml/machine-learning-databases/zoo/zoo.data'\n",
    "\n",
    "#nombres de las columnas\n",
    "oo_name = ['animal name',\n",
    "           'hair',\n",
    "           'feathers',\n",
    "           'eggs',\n",
    "           'milk',\n",
    "           'airbone',\n",
    "           'aquatic',\n",
    "           'predator',\n",
    "           'toothed',\n",
    "           'backbone',\n",
    "           'breathes',\n",
    "           'venomous',\n",
    "           'fins',\n",
    "           'legs',\n",
    "           'tail',\n",
    "           'domestic',\n",
    "           'cat-size',\n",
    "           'type']"
   ]
  },
  {
   "cell_type": "code",
   "execution_count": 3,
   "metadata": {},
   "outputs": [],
   "source": [
    "import pandas as pd"
   ]
  },
  {
   "cell_type": "code",
   "execution_count": 6,
   "metadata": {},
   "outputs": [
    {
     "data": {
      "text/html": [
       "<div>\n",
       "<style scoped>\n",
       "    .dataframe tbody tr th:only-of-type {\n",
       "        vertical-align: middle;\n",
       "    }\n",
       "\n",
       "    .dataframe tbody tr th {\n",
       "        vertical-align: top;\n",
       "    }\n",
       "\n",
       "    .dataframe thead th {\n",
       "        text-align: right;\n",
       "    }\n",
       "</style>\n",
       "<table border=\"1\" class=\"dataframe\">\n",
       "  <thead>\n",
       "    <tr style=\"text-align: right;\">\n",
       "      <th></th>\n",
       "      <th>aardvark</th>\n",
       "      <th>1</th>\n",
       "      <th>0</th>\n",
       "      <th>0.1</th>\n",
       "      <th>1.1</th>\n",
       "      <th>0.2</th>\n",
       "      <th>0.3</th>\n",
       "      <th>1.2</th>\n",
       "      <th>1.3</th>\n",
       "      <th>1.4</th>\n",
       "      <th>1.5</th>\n",
       "      <th>0.4</th>\n",
       "      <th>0.5</th>\n",
       "      <th>4</th>\n",
       "      <th>0.6</th>\n",
       "      <th>0.7</th>\n",
       "      <th>1.6</th>\n",
       "      <th>1.7</th>\n",
       "    </tr>\n",
       "  </thead>\n",
       "  <tbody>\n",
       "    <tr>\n",
       "      <th>0</th>\n",
       "      <td>antelope</td>\n",
       "      <td>1</td>\n",
       "      <td>0</td>\n",
       "      <td>0</td>\n",
       "      <td>1</td>\n",
       "      <td>0</td>\n",
       "      <td>0</td>\n",
       "      <td>0</td>\n",
       "      <td>1</td>\n",
       "      <td>1</td>\n",
       "      <td>1</td>\n",
       "      <td>0</td>\n",
       "      <td>0</td>\n",
       "      <td>4</td>\n",
       "      <td>1</td>\n",
       "      <td>0</td>\n",
       "      <td>1</td>\n",
       "      <td>1</td>\n",
       "    </tr>\n",
       "    <tr>\n",
       "      <th>1</th>\n",
       "      <td>bass</td>\n",
       "      <td>0</td>\n",
       "      <td>0</td>\n",
       "      <td>1</td>\n",
       "      <td>0</td>\n",
       "      <td>0</td>\n",
       "      <td>1</td>\n",
       "      <td>1</td>\n",
       "      <td>1</td>\n",
       "      <td>1</td>\n",
       "      <td>0</td>\n",
       "      <td>0</td>\n",
       "      <td>1</td>\n",
       "      <td>0</td>\n",
       "      <td>1</td>\n",
       "      <td>0</td>\n",
       "      <td>0</td>\n",
       "      <td>4</td>\n",
       "    </tr>\n",
       "    <tr>\n",
       "      <th>2</th>\n",
       "      <td>bear</td>\n",
       "      <td>1</td>\n",
       "      <td>0</td>\n",
       "      <td>0</td>\n",
       "      <td>1</td>\n",
       "      <td>0</td>\n",
       "      <td>0</td>\n",
       "      <td>1</td>\n",
       "      <td>1</td>\n",
       "      <td>1</td>\n",
       "      <td>1</td>\n",
       "      <td>0</td>\n",
       "      <td>0</td>\n",
       "      <td>4</td>\n",
       "      <td>0</td>\n",
       "      <td>0</td>\n",
       "      <td>1</td>\n",
       "      <td>1</td>\n",
       "    </tr>\n",
       "    <tr>\n",
       "      <th>3</th>\n",
       "      <td>boar</td>\n",
       "      <td>1</td>\n",
       "      <td>0</td>\n",
       "      <td>0</td>\n",
       "      <td>1</td>\n",
       "      <td>0</td>\n",
       "      <td>0</td>\n",
       "      <td>1</td>\n",
       "      <td>1</td>\n",
       "      <td>1</td>\n",
       "      <td>1</td>\n",
       "      <td>0</td>\n",
       "      <td>0</td>\n",
       "      <td>4</td>\n",
       "      <td>1</td>\n",
       "      <td>0</td>\n",
       "      <td>1</td>\n",
       "      <td>1</td>\n",
       "    </tr>\n",
       "    <tr>\n",
       "      <th>4</th>\n",
       "      <td>buffalo</td>\n",
       "      <td>1</td>\n",
       "      <td>0</td>\n",
       "      <td>0</td>\n",
       "      <td>1</td>\n",
       "      <td>0</td>\n",
       "      <td>0</td>\n",
       "      <td>0</td>\n",
       "      <td>1</td>\n",
       "      <td>1</td>\n",
       "      <td>1</td>\n",
       "      <td>0</td>\n",
       "      <td>0</td>\n",
       "      <td>4</td>\n",
       "      <td>1</td>\n",
       "      <td>0</td>\n",
       "      <td>1</td>\n",
       "      <td>1</td>\n",
       "    </tr>\n",
       "  </tbody>\n",
       "</table>\n",
       "</div>"
      ],
      "text/plain": [
       "   aardvark  1  0  0.1  1.1  0.2  0.3  1.2  1.3  1.4  1.5  0.4  0.5  4  0.6  \\\n",
       "0  antelope  1  0    0    1    0    0    0    1    1    1    0    0  4    1   \n",
       "1      bass  0  0    1    0    0    1    1    1    1    0    0    1  0    1   \n",
       "2      bear  1  0    0    1    0    0    1    1    1    1    0    0  4    0   \n",
       "3      boar  1  0    0    1    0    0    1    1    1    1    0    0  4    1   \n",
       "4   buffalo  1  0    0    1    0    0    0    1    1    1    0    0  4    1   \n",
       "\n",
       "   0.7  1.6  1.7  \n",
       "0    0    1    1  \n",
       "1    0    0    4  \n",
       "2    0    1    1  \n",
       "3    0    1    1  \n",
       "4    0    1    1  "
      ]
     },
     "execution_count": 6,
     "metadata": {},
     "output_type": "execute_result"
    }
   ],
   "source": [
    "df_zoo = pd.read_csv(zoo_data)\n",
    "df_zoo.head()"
   ]
  },
  {
   "cell_type": "code",
   "execution_count": 7,
   "metadata": {},
   "outputs": [],
   "source": [
    "# poner columnas\n",
    "\n",
    "df_zoo.columns = oo_name"
   ]
  },
  {
   "cell_type": "code",
   "execution_count": 8,
   "metadata": {},
   "outputs": [
    {
     "data": {
      "text/html": [
       "<div>\n",
       "<style scoped>\n",
       "    .dataframe tbody tr th:only-of-type {\n",
       "        vertical-align: middle;\n",
       "    }\n",
       "\n",
       "    .dataframe tbody tr th {\n",
       "        vertical-align: top;\n",
       "    }\n",
       "\n",
       "    .dataframe thead th {\n",
       "        text-align: right;\n",
       "    }\n",
       "</style>\n",
       "<table border=\"1\" class=\"dataframe\">\n",
       "  <thead>\n",
       "    <tr style=\"text-align: right;\">\n",
       "      <th></th>\n",
       "      <th>animal name</th>\n",
       "      <th>hair</th>\n",
       "      <th>feathers</th>\n",
       "      <th>eggs</th>\n",
       "      <th>milk</th>\n",
       "      <th>airbone</th>\n",
       "      <th>aquatic</th>\n",
       "      <th>predator</th>\n",
       "      <th>toothed</th>\n",
       "      <th>backbone</th>\n",
       "      <th>breathes</th>\n",
       "      <th>venomous</th>\n",
       "      <th>fins</th>\n",
       "      <th>legs</th>\n",
       "      <th>tail</th>\n",
       "      <th>domestic</th>\n",
       "      <th>cat-size</th>\n",
       "      <th>type</th>\n",
       "    </tr>\n",
       "  </thead>\n",
       "  <tbody>\n",
       "    <tr>\n",
       "      <th>0</th>\n",
       "      <td>antelope</td>\n",
       "      <td>1</td>\n",
       "      <td>0</td>\n",
       "      <td>0</td>\n",
       "      <td>1</td>\n",
       "      <td>0</td>\n",
       "      <td>0</td>\n",
       "      <td>0</td>\n",
       "      <td>1</td>\n",
       "      <td>1</td>\n",
       "      <td>1</td>\n",
       "      <td>0</td>\n",
       "      <td>0</td>\n",
       "      <td>4</td>\n",
       "      <td>1</td>\n",
       "      <td>0</td>\n",
       "      <td>1</td>\n",
       "      <td>1</td>\n",
       "    </tr>\n",
       "    <tr>\n",
       "      <th>1</th>\n",
       "      <td>bass</td>\n",
       "      <td>0</td>\n",
       "      <td>0</td>\n",
       "      <td>1</td>\n",
       "      <td>0</td>\n",
       "      <td>0</td>\n",
       "      <td>1</td>\n",
       "      <td>1</td>\n",
       "      <td>1</td>\n",
       "      <td>1</td>\n",
       "      <td>0</td>\n",
       "      <td>0</td>\n",
       "      <td>1</td>\n",
       "      <td>0</td>\n",
       "      <td>1</td>\n",
       "      <td>0</td>\n",
       "      <td>0</td>\n",
       "      <td>4</td>\n",
       "    </tr>\n",
       "    <tr>\n",
       "      <th>2</th>\n",
       "      <td>bear</td>\n",
       "      <td>1</td>\n",
       "      <td>0</td>\n",
       "      <td>0</td>\n",
       "      <td>1</td>\n",
       "      <td>0</td>\n",
       "      <td>0</td>\n",
       "      <td>1</td>\n",
       "      <td>1</td>\n",
       "      <td>1</td>\n",
       "      <td>1</td>\n",
       "      <td>0</td>\n",
       "      <td>0</td>\n",
       "      <td>4</td>\n",
       "      <td>0</td>\n",
       "      <td>0</td>\n",
       "      <td>1</td>\n",
       "      <td>1</td>\n",
       "    </tr>\n",
       "    <tr>\n",
       "      <th>3</th>\n",
       "      <td>boar</td>\n",
       "      <td>1</td>\n",
       "      <td>0</td>\n",
       "      <td>0</td>\n",
       "      <td>1</td>\n",
       "      <td>0</td>\n",
       "      <td>0</td>\n",
       "      <td>1</td>\n",
       "      <td>1</td>\n",
       "      <td>1</td>\n",
       "      <td>1</td>\n",
       "      <td>0</td>\n",
       "      <td>0</td>\n",
       "      <td>4</td>\n",
       "      <td>1</td>\n",
       "      <td>0</td>\n",
       "      <td>1</td>\n",
       "      <td>1</td>\n",
       "    </tr>\n",
       "    <tr>\n",
       "      <th>4</th>\n",
       "      <td>buffalo</td>\n",
       "      <td>1</td>\n",
       "      <td>0</td>\n",
       "      <td>0</td>\n",
       "      <td>1</td>\n",
       "      <td>0</td>\n",
       "      <td>0</td>\n",
       "      <td>0</td>\n",
       "      <td>1</td>\n",
       "      <td>1</td>\n",
       "      <td>1</td>\n",
       "      <td>0</td>\n",
       "      <td>0</td>\n",
       "      <td>4</td>\n",
       "      <td>1</td>\n",
       "      <td>0</td>\n",
       "      <td>1</td>\n",
       "      <td>1</td>\n",
       "    </tr>\n",
       "  </tbody>\n",
       "</table>\n",
       "</div>"
      ],
      "text/plain": [
       "  animal name  hair  feathers  eggs  milk  airbone  aquatic  predator  \\\n",
       "0    antelope     1         0     0     1        0        0         0   \n",
       "1        bass     0         0     1     0        0        1         1   \n",
       "2        bear     1         0     0     1        0        0         1   \n",
       "3        boar     1         0     0     1        0        0         1   \n",
       "4     buffalo     1         0     0     1        0        0         0   \n",
       "\n",
       "   toothed  backbone  breathes  venomous  fins  legs  tail  domestic  \\\n",
       "0        1         1         1         0     0     4     1         0   \n",
       "1        1         1         0         0     1     0     1         0   \n",
       "2        1         1         1         0     0     4     0         0   \n",
       "3        1         1         1         0     0     4     1         0   \n",
       "4        1         1         1         0     0     4     1         0   \n",
       "\n",
       "   cat-size  type  \n",
       "0         1     1  \n",
       "1         0     4  \n",
       "2         1     1  \n",
       "3         1     1  \n",
       "4         1     1  "
      ]
     },
     "execution_count": 8,
     "metadata": {},
     "output_type": "execute_result"
    }
   ],
   "source": [
    "df_zoo.head()"
   ]
  },
  {
   "cell_type": "markdown",
   "metadata": {},
   "source": [
    "### 1- Modulo Altair:\n",
    "- Es simple pero clara, permite exportar las imagens a svg para posterior uso\n",
    "- Para graficos , alternativa a matplotlib y seaborn\n",
    "- Por convencion se import as alt"
   ]
  },
  {
   "cell_type": "code",
   "execution_count": 10,
   "metadata": {},
   "outputs": [],
   "source": [
    "# Modulo altair para graficos\n",
    "\n",
    "import altair as alt"
   ]
  },
  {
   "cell_type": "markdown",
   "metadata": {},
   "source": [
    "#### Grafico tipo Chart(DataFrame):\n",
    "- Le pasamos como argumento el DataFrame\n",
    "- metodo : \n",
    "    - mark_line()  le indica que la grafica sera de lineas\n",
    "    - mark_bar() muestra grafico de barras\n",
    "- encode () para indicarle cual va a ser el eje x y cual el y"
   ]
  },
  {
   "cell_type": "code",
   "execution_count": 12,
   "metadata": {},
   "outputs": [],
   "source": [
    "plot_01 = alt.Chart(df_zoo).mark_line().encode(\n",
    "    x='animal name',\n",
    "    y='legs'\n",
    ")"
   ]
  },
  {
   "cell_type": "code",
   "execution_count": 13,
   "metadata": {},
   "outputs": [
    {
     "data": {
      "text/html": [
       "\n",
       "<style>\n",
       "  #altair-viz-cfb06d817a2c4b569084d86af30b958b.vega-embed {\n",
       "    width: 100%;\n",
       "    display: flex;\n",
       "  }\n",
       "\n",
       "  #altair-viz-cfb06d817a2c4b569084d86af30b958b.vega-embed details,\n",
       "  #altair-viz-cfb06d817a2c4b569084d86af30b958b.vega-embed details summary {\n",
       "    position: relative;\n",
       "  }\n",
       "</style>\n",
       "<div id=\"altair-viz-cfb06d817a2c4b569084d86af30b958b\"></div>\n",
       "<script type=\"text/javascript\">\n",
       "  var VEGA_DEBUG = (typeof VEGA_DEBUG == \"undefined\") ? {} : VEGA_DEBUG;\n",
       "  (function(spec, embedOpt){\n",
       "    let outputDiv = document.currentScript.previousElementSibling;\n",
       "    if (outputDiv.id !== \"altair-viz-cfb06d817a2c4b569084d86af30b958b\") {\n",
       "      outputDiv = document.getElementById(\"altair-viz-cfb06d817a2c4b569084d86af30b958b\");\n",
       "    }\n",
       "    const paths = {\n",
       "      \"vega\": \"https://cdn.jsdelivr.net/npm/vega@5?noext\",\n",
       "      \"vega-lib\": \"https://cdn.jsdelivr.net/npm/vega-lib?noext\",\n",
       "      \"vega-lite\": \"https://cdn.jsdelivr.net/npm/vega-lite@5.17.0?noext\",\n",
       "      \"vega-embed\": \"https://cdn.jsdelivr.net/npm/vega-embed@6?noext\",\n",
       "    };\n",
       "\n",
       "    function maybeLoadScript(lib, version) {\n",
       "      var key = `${lib.replace(\"-\", \"\")}_version`;\n",
       "      return (VEGA_DEBUG[key] == version) ?\n",
       "        Promise.resolve(paths[lib]) :\n",
       "        new Promise(function(resolve, reject) {\n",
       "          var s = document.createElement('script');\n",
       "          document.getElementsByTagName(\"head\")[0].appendChild(s);\n",
       "          s.async = true;\n",
       "          s.onload = () => {\n",
       "            VEGA_DEBUG[key] = version;\n",
       "            return resolve(paths[lib]);\n",
       "          };\n",
       "          s.onerror = () => reject(`Error loading script: ${paths[lib]}`);\n",
       "          s.src = paths[lib];\n",
       "        });\n",
       "    }\n",
       "\n",
       "    function showError(err) {\n",
       "      outputDiv.innerHTML = `<div class=\"error\" style=\"color:red;\">${err}</div>`;\n",
       "      throw err;\n",
       "    }\n",
       "\n",
       "    function displayChart(vegaEmbed) {\n",
       "      vegaEmbed(outputDiv, spec, embedOpt)\n",
       "        .catch(err => showError(`Javascript Error: ${err.message}<br>This usually means there's a typo in your chart specification. See the javascript console for the full traceback.`));\n",
       "    }\n",
       "\n",
       "    if(typeof define === \"function\" && define.amd) {\n",
       "      requirejs.config({paths});\n",
       "      require([\"vega-embed\"], displayChart, err => showError(`Error loading script: ${err.message}`));\n",
       "    } else {\n",
       "      maybeLoadScript(\"vega\", \"5\")\n",
       "        .then(() => maybeLoadScript(\"vega-lite\", \"5.17.0\"))\n",
       "        .then(() => maybeLoadScript(\"vega-embed\", \"6\"))\n",
       "        .catch(showError)\n",
       "        .then(() => displayChart(vegaEmbed));\n",
       "    }\n",
       "  })({\"config\": {\"view\": {\"continuousWidth\": 300, \"continuousHeight\": 300}}, \"data\": {\"name\": \"data-b73ff341574304b68fceff5d69f0194b\"}, \"mark\": {\"type\": \"line\"}, \"encoding\": {\"x\": {\"field\": \"animal name\", \"type\": \"nominal\"}, \"y\": {\"field\": \"legs\", \"type\": \"quantitative\"}}, \"$schema\": \"https://vega.github.io/schema/vega-lite/v5.17.0.json\", \"datasets\": {\"data-b73ff341574304b68fceff5d69f0194b\": [{\"animal name\": \"antelope\", \"hair\": 1, \"feathers\": 0, \"eggs\": 0, \"milk\": 1, \"airbone\": 0, \"aquatic\": 0, \"predator\": 0, \"toothed\": 1, \"backbone\": 1, \"breathes\": 1, \"venomous\": 0, \"fins\": 0, \"legs\": 4, \"tail\": 1, \"domestic\": 0, \"cat-size\": 1, \"type\": 1}, {\"animal name\": \"bass\", \"hair\": 0, \"feathers\": 0, \"eggs\": 1, \"milk\": 0, \"airbone\": 0, \"aquatic\": 1, \"predator\": 1, \"toothed\": 1, \"backbone\": 1, \"breathes\": 0, \"venomous\": 0, \"fins\": 1, \"legs\": 0, \"tail\": 1, \"domestic\": 0, \"cat-size\": 0, \"type\": 4}, {\"animal name\": \"bear\", \"hair\": 1, \"feathers\": 0, \"eggs\": 0, \"milk\": 1, \"airbone\": 0, \"aquatic\": 0, \"predator\": 1, \"toothed\": 1, \"backbone\": 1, \"breathes\": 1, \"venomous\": 0, \"fins\": 0, \"legs\": 4, \"tail\": 0, \"domestic\": 0, \"cat-size\": 1, \"type\": 1}, {\"animal name\": \"boar\", \"hair\": 1, \"feathers\": 0, \"eggs\": 0, \"milk\": 1, \"airbone\": 0, \"aquatic\": 0, \"predator\": 1, \"toothed\": 1, \"backbone\": 1, \"breathes\": 1, \"venomous\": 0, \"fins\": 0, \"legs\": 4, \"tail\": 1, \"domestic\": 0, \"cat-size\": 1, \"type\": 1}, {\"animal name\": \"buffalo\", \"hair\": 1, \"feathers\": 0, \"eggs\": 0, \"milk\": 1, \"airbone\": 0, \"aquatic\": 0, \"predator\": 0, \"toothed\": 1, \"backbone\": 1, \"breathes\": 1, \"venomous\": 0, \"fins\": 0, \"legs\": 4, \"tail\": 1, \"domestic\": 0, \"cat-size\": 1, \"type\": 1}, {\"animal name\": \"calf\", \"hair\": 1, \"feathers\": 0, \"eggs\": 0, \"milk\": 1, \"airbone\": 0, \"aquatic\": 0, \"predator\": 0, \"toothed\": 1, \"backbone\": 1, \"breathes\": 1, \"venomous\": 0, \"fins\": 0, \"legs\": 4, \"tail\": 1, \"domestic\": 1, \"cat-size\": 1, \"type\": 1}, {\"animal name\": \"carp\", \"hair\": 0, \"feathers\": 0, \"eggs\": 1, \"milk\": 0, \"airbone\": 0, \"aquatic\": 1, \"predator\": 0, \"toothed\": 1, \"backbone\": 1, \"breathes\": 0, \"venomous\": 0, \"fins\": 1, \"legs\": 0, \"tail\": 1, \"domestic\": 1, \"cat-size\": 0, \"type\": 4}, {\"animal name\": \"catfish\", \"hair\": 0, \"feathers\": 0, \"eggs\": 1, \"milk\": 0, \"airbone\": 0, \"aquatic\": 1, \"predator\": 1, \"toothed\": 1, \"backbone\": 1, \"breathes\": 0, \"venomous\": 0, \"fins\": 1, \"legs\": 0, \"tail\": 1, \"domestic\": 0, \"cat-size\": 0, \"type\": 4}, {\"animal name\": \"cavy\", \"hair\": 1, \"feathers\": 0, \"eggs\": 0, \"milk\": 1, \"airbone\": 0, \"aquatic\": 0, \"predator\": 0, \"toothed\": 1, \"backbone\": 1, \"breathes\": 1, \"venomous\": 0, \"fins\": 0, \"legs\": 4, \"tail\": 0, \"domestic\": 1, \"cat-size\": 0, \"type\": 1}, {\"animal name\": \"cheetah\", \"hair\": 1, \"feathers\": 0, \"eggs\": 0, \"milk\": 1, \"airbone\": 0, \"aquatic\": 0, \"predator\": 1, \"toothed\": 1, \"backbone\": 1, \"breathes\": 1, \"venomous\": 0, \"fins\": 0, \"legs\": 4, \"tail\": 1, \"domestic\": 0, \"cat-size\": 1, \"type\": 1}, {\"animal name\": \"chicken\", \"hair\": 0, \"feathers\": 1, \"eggs\": 1, \"milk\": 0, \"airbone\": 1, \"aquatic\": 0, \"predator\": 0, \"toothed\": 0, \"backbone\": 1, \"breathes\": 1, \"venomous\": 0, \"fins\": 0, \"legs\": 2, \"tail\": 1, \"domestic\": 1, \"cat-size\": 0, \"type\": 2}, {\"animal name\": \"chub\", \"hair\": 0, \"feathers\": 0, \"eggs\": 1, \"milk\": 0, \"airbone\": 0, \"aquatic\": 1, \"predator\": 1, \"toothed\": 1, \"backbone\": 1, \"breathes\": 0, \"venomous\": 0, \"fins\": 1, \"legs\": 0, \"tail\": 1, \"domestic\": 0, \"cat-size\": 0, \"type\": 4}, {\"animal name\": \"clam\", \"hair\": 0, \"feathers\": 0, \"eggs\": 1, \"milk\": 0, \"airbone\": 0, \"aquatic\": 0, \"predator\": 1, \"toothed\": 0, \"backbone\": 0, \"breathes\": 0, \"venomous\": 0, \"fins\": 0, \"legs\": 0, \"tail\": 0, \"domestic\": 0, \"cat-size\": 0, \"type\": 7}, {\"animal name\": \"crab\", \"hair\": 0, \"feathers\": 0, \"eggs\": 1, \"milk\": 0, \"airbone\": 0, \"aquatic\": 1, \"predator\": 1, \"toothed\": 0, \"backbone\": 0, \"breathes\": 0, \"venomous\": 0, \"fins\": 0, \"legs\": 4, \"tail\": 0, \"domestic\": 0, \"cat-size\": 0, \"type\": 7}, {\"animal name\": \"crayfish\", \"hair\": 0, \"feathers\": 0, \"eggs\": 1, \"milk\": 0, \"airbone\": 0, \"aquatic\": 1, \"predator\": 1, \"toothed\": 0, \"backbone\": 0, \"breathes\": 0, \"venomous\": 0, \"fins\": 0, \"legs\": 6, \"tail\": 0, \"domestic\": 0, \"cat-size\": 0, \"type\": 7}, {\"animal name\": \"crow\", \"hair\": 0, \"feathers\": 1, \"eggs\": 1, \"milk\": 0, \"airbone\": 1, \"aquatic\": 0, \"predator\": 1, \"toothed\": 0, \"backbone\": 1, \"breathes\": 1, \"venomous\": 0, \"fins\": 0, \"legs\": 2, \"tail\": 1, \"domestic\": 0, \"cat-size\": 0, \"type\": 2}, {\"animal name\": \"deer\", \"hair\": 1, \"feathers\": 0, \"eggs\": 0, \"milk\": 1, \"airbone\": 0, \"aquatic\": 0, \"predator\": 0, \"toothed\": 1, \"backbone\": 1, \"breathes\": 1, \"venomous\": 0, \"fins\": 0, \"legs\": 4, \"tail\": 1, \"domestic\": 0, \"cat-size\": 1, \"type\": 1}, {\"animal name\": \"dogfish\", \"hair\": 0, \"feathers\": 0, \"eggs\": 1, \"milk\": 0, \"airbone\": 0, \"aquatic\": 1, \"predator\": 1, \"toothed\": 1, \"backbone\": 1, \"breathes\": 0, \"venomous\": 0, \"fins\": 1, \"legs\": 0, \"tail\": 1, \"domestic\": 0, \"cat-size\": 1, \"type\": 4}, {\"animal name\": \"dolphin\", \"hair\": 0, \"feathers\": 0, \"eggs\": 0, \"milk\": 1, \"airbone\": 0, \"aquatic\": 1, \"predator\": 1, \"toothed\": 1, \"backbone\": 1, \"breathes\": 1, \"venomous\": 0, \"fins\": 1, \"legs\": 0, \"tail\": 1, \"domestic\": 0, \"cat-size\": 1, \"type\": 1}, {\"animal name\": \"dove\", \"hair\": 0, \"feathers\": 1, \"eggs\": 1, \"milk\": 0, \"airbone\": 1, \"aquatic\": 0, \"predator\": 0, \"toothed\": 0, \"backbone\": 1, \"breathes\": 1, \"venomous\": 0, \"fins\": 0, \"legs\": 2, \"tail\": 1, \"domestic\": 1, \"cat-size\": 0, \"type\": 2}, {\"animal name\": \"duck\", \"hair\": 0, \"feathers\": 1, \"eggs\": 1, \"milk\": 0, \"airbone\": 1, \"aquatic\": 1, \"predator\": 0, \"toothed\": 0, \"backbone\": 1, \"breathes\": 1, \"venomous\": 0, \"fins\": 0, \"legs\": 2, \"tail\": 1, \"domestic\": 0, \"cat-size\": 0, \"type\": 2}, {\"animal name\": \"elephant\", \"hair\": 1, \"feathers\": 0, \"eggs\": 0, \"milk\": 1, \"airbone\": 0, \"aquatic\": 0, \"predator\": 0, \"toothed\": 1, \"backbone\": 1, \"breathes\": 1, \"venomous\": 0, \"fins\": 0, \"legs\": 4, \"tail\": 1, \"domestic\": 0, \"cat-size\": 1, \"type\": 1}, {\"animal name\": \"flamingo\", \"hair\": 0, \"feathers\": 1, \"eggs\": 1, \"milk\": 0, \"airbone\": 1, \"aquatic\": 0, \"predator\": 0, \"toothed\": 0, \"backbone\": 1, \"breathes\": 1, \"venomous\": 0, \"fins\": 0, \"legs\": 2, \"tail\": 1, \"domestic\": 0, \"cat-size\": 1, \"type\": 2}, {\"animal name\": \"flea\", \"hair\": 0, \"feathers\": 0, \"eggs\": 1, \"milk\": 0, \"airbone\": 0, \"aquatic\": 0, \"predator\": 0, \"toothed\": 0, \"backbone\": 0, \"breathes\": 1, \"venomous\": 0, \"fins\": 0, \"legs\": 6, \"tail\": 0, \"domestic\": 0, \"cat-size\": 0, \"type\": 6}, {\"animal name\": \"frog\", \"hair\": 0, \"feathers\": 0, \"eggs\": 1, \"milk\": 0, \"airbone\": 0, \"aquatic\": 1, \"predator\": 1, \"toothed\": 1, \"backbone\": 1, \"breathes\": 1, \"venomous\": 0, \"fins\": 0, \"legs\": 4, \"tail\": 0, \"domestic\": 0, \"cat-size\": 0, \"type\": 5}, {\"animal name\": \"frog\", \"hair\": 0, \"feathers\": 0, \"eggs\": 1, \"milk\": 0, \"airbone\": 0, \"aquatic\": 1, \"predator\": 1, \"toothed\": 1, \"backbone\": 1, \"breathes\": 1, \"venomous\": 1, \"fins\": 0, \"legs\": 4, \"tail\": 0, \"domestic\": 0, \"cat-size\": 0, \"type\": 5}, {\"animal name\": \"fruitbat\", \"hair\": 1, \"feathers\": 0, \"eggs\": 0, \"milk\": 1, \"airbone\": 1, \"aquatic\": 0, \"predator\": 0, \"toothed\": 1, \"backbone\": 1, \"breathes\": 1, \"venomous\": 0, \"fins\": 0, \"legs\": 2, \"tail\": 1, \"domestic\": 0, \"cat-size\": 0, \"type\": 1}, {\"animal name\": \"giraffe\", \"hair\": 1, \"feathers\": 0, \"eggs\": 0, \"milk\": 1, \"airbone\": 0, \"aquatic\": 0, \"predator\": 0, \"toothed\": 1, \"backbone\": 1, \"breathes\": 1, \"venomous\": 0, \"fins\": 0, \"legs\": 4, \"tail\": 1, \"domestic\": 0, \"cat-size\": 1, \"type\": 1}, {\"animal name\": \"girl\", \"hair\": 1, \"feathers\": 0, \"eggs\": 0, \"milk\": 1, \"airbone\": 0, \"aquatic\": 0, \"predator\": 1, \"toothed\": 1, \"backbone\": 1, \"breathes\": 1, \"venomous\": 0, \"fins\": 0, \"legs\": 2, \"tail\": 0, \"domestic\": 1, \"cat-size\": 1, \"type\": 1}, {\"animal name\": \"gnat\", \"hair\": 0, \"feathers\": 0, \"eggs\": 1, \"milk\": 0, \"airbone\": 1, \"aquatic\": 0, \"predator\": 0, \"toothed\": 0, \"backbone\": 0, \"breathes\": 1, \"venomous\": 0, \"fins\": 0, \"legs\": 6, \"tail\": 0, \"domestic\": 0, \"cat-size\": 0, \"type\": 6}, {\"animal name\": \"goat\", \"hair\": 1, \"feathers\": 0, \"eggs\": 0, \"milk\": 1, \"airbone\": 0, \"aquatic\": 0, \"predator\": 0, \"toothed\": 1, \"backbone\": 1, \"breathes\": 1, \"venomous\": 0, \"fins\": 0, \"legs\": 4, \"tail\": 1, \"domestic\": 1, \"cat-size\": 1, \"type\": 1}, {\"animal name\": \"gorilla\", \"hair\": 1, \"feathers\": 0, \"eggs\": 0, \"milk\": 1, \"airbone\": 0, \"aquatic\": 0, \"predator\": 0, \"toothed\": 1, \"backbone\": 1, \"breathes\": 1, \"venomous\": 0, \"fins\": 0, \"legs\": 2, \"tail\": 0, \"domestic\": 0, \"cat-size\": 1, \"type\": 1}, {\"animal name\": \"gull\", \"hair\": 0, \"feathers\": 1, \"eggs\": 1, \"milk\": 0, \"airbone\": 1, \"aquatic\": 1, \"predator\": 1, \"toothed\": 0, \"backbone\": 1, \"breathes\": 1, \"venomous\": 0, \"fins\": 0, \"legs\": 2, \"tail\": 1, \"domestic\": 0, \"cat-size\": 0, \"type\": 2}, {\"animal name\": \"haddock\", \"hair\": 0, \"feathers\": 0, \"eggs\": 1, \"milk\": 0, \"airbone\": 0, \"aquatic\": 1, \"predator\": 0, \"toothed\": 1, \"backbone\": 1, \"breathes\": 0, \"venomous\": 0, \"fins\": 1, \"legs\": 0, \"tail\": 1, \"domestic\": 0, \"cat-size\": 0, \"type\": 4}, {\"animal name\": \"hamster\", \"hair\": 1, \"feathers\": 0, \"eggs\": 0, \"milk\": 1, \"airbone\": 0, \"aquatic\": 0, \"predator\": 0, \"toothed\": 1, \"backbone\": 1, \"breathes\": 1, \"venomous\": 0, \"fins\": 0, \"legs\": 4, \"tail\": 1, \"domestic\": 1, \"cat-size\": 0, \"type\": 1}, {\"animal name\": \"hare\", \"hair\": 1, \"feathers\": 0, \"eggs\": 0, \"milk\": 1, \"airbone\": 0, \"aquatic\": 0, \"predator\": 0, \"toothed\": 1, \"backbone\": 1, \"breathes\": 1, \"venomous\": 0, \"fins\": 0, \"legs\": 4, \"tail\": 1, \"domestic\": 0, \"cat-size\": 0, \"type\": 1}, {\"animal name\": \"hawk\", \"hair\": 0, \"feathers\": 1, \"eggs\": 1, \"milk\": 0, \"airbone\": 1, \"aquatic\": 0, \"predator\": 1, \"toothed\": 0, \"backbone\": 1, \"breathes\": 1, \"venomous\": 0, \"fins\": 0, \"legs\": 2, \"tail\": 1, \"domestic\": 0, \"cat-size\": 0, \"type\": 2}, {\"animal name\": \"herring\", \"hair\": 0, \"feathers\": 0, \"eggs\": 1, \"milk\": 0, \"airbone\": 0, \"aquatic\": 1, \"predator\": 1, \"toothed\": 1, \"backbone\": 1, \"breathes\": 0, \"venomous\": 0, \"fins\": 1, \"legs\": 0, \"tail\": 1, \"domestic\": 0, \"cat-size\": 0, \"type\": 4}, {\"animal name\": \"honeybee\", \"hair\": 1, \"feathers\": 0, \"eggs\": 1, \"milk\": 0, \"airbone\": 1, \"aquatic\": 0, \"predator\": 0, \"toothed\": 0, \"backbone\": 0, \"breathes\": 1, \"venomous\": 1, \"fins\": 0, \"legs\": 6, \"tail\": 0, \"domestic\": 1, \"cat-size\": 0, \"type\": 6}, {\"animal name\": \"housefly\", \"hair\": 1, \"feathers\": 0, \"eggs\": 1, \"milk\": 0, \"airbone\": 1, \"aquatic\": 0, \"predator\": 0, \"toothed\": 0, \"backbone\": 0, \"breathes\": 1, \"venomous\": 0, \"fins\": 0, \"legs\": 6, \"tail\": 0, \"domestic\": 0, \"cat-size\": 0, \"type\": 6}, {\"animal name\": \"kiwi\", \"hair\": 0, \"feathers\": 1, \"eggs\": 1, \"milk\": 0, \"airbone\": 0, \"aquatic\": 0, \"predator\": 1, \"toothed\": 0, \"backbone\": 1, \"breathes\": 1, \"venomous\": 0, \"fins\": 0, \"legs\": 2, \"tail\": 1, \"domestic\": 0, \"cat-size\": 0, \"type\": 2}, {\"animal name\": \"ladybird\", \"hair\": 0, \"feathers\": 0, \"eggs\": 1, \"milk\": 0, \"airbone\": 1, \"aquatic\": 0, \"predator\": 1, \"toothed\": 0, \"backbone\": 0, \"breathes\": 1, \"venomous\": 0, \"fins\": 0, \"legs\": 6, \"tail\": 0, \"domestic\": 0, \"cat-size\": 0, \"type\": 6}, {\"animal name\": \"lark\", \"hair\": 0, \"feathers\": 1, \"eggs\": 1, \"milk\": 0, \"airbone\": 1, \"aquatic\": 0, \"predator\": 0, \"toothed\": 0, \"backbone\": 1, \"breathes\": 1, \"venomous\": 0, \"fins\": 0, \"legs\": 2, \"tail\": 1, \"domestic\": 0, \"cat-size\": 0, \"type\": 2}, {\"animal name\": \"leopard\", \"hair\": 1, \"feathers\": 0, \"eggs\": 0, \"milk\": 1, \"airbone\": 0, \"aquatic\": 0, \"predator\": 1, \"toothed\": 1, \"backbone\": 1, \"breathes\": 1, \"venomous\": 0, \"fins\": 0, \"legs\": 4, \"tail\": 1, \"domestic\": 0, \"cat-size\": 1, \"type\": 1}, {\"animal name\": \"lion\", \"hair\": 1, \"feathers\": 0, \"eggs\": 0, \"milk\": 1, \"airbone\": 0, \"aquatic\": 0, \"predator\": 1, \"toothed\": 1, \"backbone\": 1, \"breathes\": 1, \"venomous\": 0, \"fins\": 0, \"legs\": 4, \"tail\": 1, \"domestic\": 0, \"cat-size\": 1, \"type\": 1}, {\"animal name\": \"lobster\", \"hair\": 0, \"feathers\": 0, \"eggs\": 1, \"milk\": 0, \"airbone\": 0, \"aquatic\": 1, \"predator\": 1, \"toothed\": 0, \"backbone\": 0, \"breathes\": 0, \"venomous\": 0, \"fins\": 0, \"legs\": 6, \"tail\": 0, \"domestic\": 0, \"cat-size\": 0, \"type\": 7}, {\"animal name\": \"lynx\", \"hair\": 1, \"feathers\": 0, \"eggs\": 0, \"milk\": 1, \"airbone\": 0, \"aquatic\": 0, \"predator\": 1, \"toothed\": 1, \"backbone\": 1, \"breathes\": 1, \"venomous\": 0, \"fins\": 0, \"legs\": 4, \"tail\": 1, \"domestic\": 0, \"cat-size\": 1, \"type\": 1}, {\"animal name\": \"mink\", \"hair\": 1, \"feathers\": 0, \"eggs\": 0, \"milk\": 1, \"airbone\": 0, \"aquatic\": 1, \"predator\": 1, \"toothed\": 1, \"backbone\": 1, \"breathes\": 1, \"venomous\": 0, \"fins\": 0, \"legs\": 4, \"tail\": 1, \"domestic\": 0, \"cat-size\": 1, \"type\": 1}, {\"animal name\": \"mole\", \"hair\": 1, \"feathers\": 0, \"eggs\": 0, \"milk\": 1, \"airbone\": 0, \"aquatic\": 0, \"predator\": 1, \"toothed\": 1, \"backbone\": 1, \"breathes\": 1, \"venomous\": 0, \"fins\": 0, \"legs\": 4, \"tail\": 1, \"domestic\": 0, \"cat-size\": 0, \"type\": 1}, {\"animal name\": \"mongoose\", \"hair\": 1, \"feathers\": 0, \"eggs\": 0, \"milk\": 1, \"airbone\": 0, \"aquatic\": 0, \"predator\": 1, \"toothed\": 1, \"backbone\": 1, \"breathes\": 1, \"venomous\": 0, \"fins\": 0, \"legs\": 4, \"tail\": 1, \"domestic\": 0, \"cat-size\": 1, \"type\": 1}, {\"animal name\": \"moth\", \"hair\": 1, \"feathers\": 0, \"eggs\": 1, \"milk\": 0, \"airbone\": 1, \"aquatic\": 0, \"predator\": 0, \"toothed\": 0, \"backbone\": 0, \"breathes\": 1, \"venomous\": 0, \"fins\": 0, \"legs\": 6, \"tail\": 0, \"domestic\": 0, \"cat-size\": 0, \"type\": 6}, {\"animal name\": \"newt\", \"hair\": 0, \"feathers\": 0, \"eggs\": 1, \"milk\": 0, \"airbone\": 0, \"aquatic\": 1, \"predator\": 1, \"toothed\": 1, \"backbone\": 1, \"breathes\": 1, \"venomous\": 0, \"fins\": 0, \"legs\": 4, \"tail\": 1, \"domestic\": 0, \"cat-size\": 0, \"type\": 5}, {\"animal name\": \"octopus\", \"hair\": 0, \"feathers\": 0, \"eggs\": 1, \"milk\": 0, \"airbone\": 0, \"aquatic\": 1, \"predator\": 1, \"toothed\": 0, \"backbone\": 0, \"breathes\": 0, \"venomous\": 0, \"fins\": 0, \"legs\": 8, \"tail\": 0, \"domestic\": 0, \"cat-size\": 1, \"type\": 7}, {\"animal name\": \"opossum\", \"hair\": 1, \"feathers\": 0, \"eggs\": 0, \"milk\": 1, \"airbone\": 0, \"aquatic\": 0, \"predator\": 1, \"toothed\": 1, \"backbone\": 1, \"breathes\": 1, \"venomous\": 0, \"fins\": 0, \"legs\": 4, \"tail\": 1, \"domestic\": 0, \"cat-size\": 0, \"type\": 1}, {\"animal name\": \"oryx\", \"hair\": 1, \"feathers\": 0, \"eggs\": 0, \"milk\": 1, \"airbone\": 0, \"aquatic\": 0, \"predator\": 0, \"toothed\": 1, \"backbone\": 1, \"breathes\": 1, \"venomous\": 0, \"fins\": 0, \"legs\": 4, \"tail\": 1, \"domestic\": 0, \"cat-size\": 1, \"type\": 1}, {\"animal name\": \"ostrich\", \"hair\": 0, \"feathers\": 1, \"eggs\": 1, \"milk\": 0, \"airbone\": 0, \"aquatic\": 0, \"predator\": 0, \"toothed\": 0, \"backbone\": 1, \"breathes\": 1, \"venomous\": 0, \"fins\": 0, \"legs\": 2, \"tail\": 1, \"domestic\": 0, \"cat-size\": 1, \"type\": 2}, {\"animal name\": \"parakeet\", \"hair\": 0, \"feathers\": 1, \"eggs\": 1, \"milk\": 0, \"airbone\": 1, \"aquatic\": 0, \"predator\": 0, \"toothed\": 0, \"backbone\": 1, \"breathes\": 1, \"venomous\": 0, \"fins\": 0, \"legs\": 2, \"tail\": 1, \"domestic\": 1, \"cat-size\": 0, \"type\": 2}, {\"animal name\": \"penguin\", \"hair\": 0, \"feathers\": 1, \"eggs\": 1, \"milk\": 0, \"airbone\": 0, \"aquatic\": 1, \"predator\": 1, \"toothed\": 0, \"backbone\": 1, \"breathes\": 1, \"venomous\": 0, \"fins\": 0, \"legs\": 2, \"tail\": 1, \"domestic\": 0, \"cat-size\": 1, \"type\": 2}, {\"animal name\": \"pheasant\", \"hair\": 0, \"feathers\": 1, \"eggs\": 1, \"milk\": 0, \"airbone\": 1, \"aquatic\": 0, \"predator\": 0, \"toothed\": 0, \"backbone\": 1, \"breathes\": 1, \"venomous\": 0, \"fins\": 0, \"legs\": 2, \"tail\": 1, \"domestic\": 0, \"cat-size\": 0, \"type\": 2}, {\"animal name\": \"pike\", \"hair\": 0, \"feathers\": 0, \"eggs\": 1, \"milk\": 0, \"airbone\": 0, \"aquatic\": 1, \"predator\": 1, \"toothed\": 1, \"backbone\": 1, \"breathes\": 0, \"venomous\": 0, \"fins\": 1, \"legs\": 0, \"tail\": 1, \"domestic\": 0, \"cat-size\": 1, \"type\": 4}, {\"animal name\": \"piranha\", \"hair\": 0, \"feathers\": 0, \"eggs\": 1, \"milk\": 0, \"airbone\": 0, \"aquatic\": 1, \"predator\": 1, \"toothed\": 1, \"backbone\": 1, \"breathes\": 0, \"venomous\": 0, \"fins\": 1, \"legs\": 0, \"tail\": 1, \"domestic\": 0, \"cat-size\": 0, \"type\": 4}, {\"animal name\": \"pitviper\", \"hair\": 0, \"feathers\": 0, \"eggs\": 1, \"milk\": 0, \"airbone\": 0, \"aquatic\": 0, \"predator\": 1, \"toothed\": 1, \"backbone\": 1, \"breathes\": 1, \"venomous\": 1, \"fins\": 0, \"legs\": 0, \"tail\": 1, \"domestic\": 0, \"cat-size\": 0, \"type\": 3}, {\"animal name\": \"platypus\", \"hair\": 1, \"feathers\": 0, \"eggs\": 1, \"milk\": 1, \"airbone\": 0, \"aquatic\": 1, \"predator\": 1, \"toothed\": 0, \"backbone\": 1, \"breathes\": 1, \"venomous\": 0, \"fins\": 0, \"legs\": 4, \"tail\": 1, \"domestic\": 0, \"cat-size\": 1, \"type\": 1}, {\"animal name\": \"polecat\", \"hair\": 1, \"feathers\": 0, \"eggs\": 0, \"milk\": 1, \"airbone\": 0, \"aquatic\": 0, \"predator\": 1, \"toothed\": 1, \"backbone\": 1, \"breathes\": 1, \"venomous\": 0, \"fins\": 0, \"legs\": 4, \"tail\": 1, \"domestic\": 0, \"cat-size\": 1, \"type\": 1}, {\"animal name\": \"pony\", \"hair\": 1, \"feathers\": 0, \"eggs\": 0, \"milk\": 1, \"airbone\": 0, \"aquatic\": 0, \"predator\": 0, \"toothed\": 1, \"backbone\": 1, \"breathes\": 1, \"venomous\": 0, \"fins\": 0, \"legs\": 4, \"tail\": 1, \"domestic\": 1, \"cat-size\": 1, \"type\": 1}, {\"animal name\": \"porpoise\", \"hair\": 0, \"feathers\": 0, \"eggs\": 0, \"milk\": 1, \"airbone\": 0, \"aquatic\": 1, \"predator\": 1, \"toothed\": 1, \"backbone\": 1, \"breathes\": 1, \"venomous\": 0, \"fins\": 1, \"legs\": 0, \"tail\": 1, \"domestic\": 0, \"cat-size\": 1, \"type\": 1}, {\"animal name\": \"puma\", \"hair\": 1, \"feathers\": 0, \"eggs\": 0, \"milk\": 1, \"airbone\": 0, \"aquatic\": 0, \"predator\": 1, \"toothed\": 1, \"backbone\": 1, \"breathes\": 1, \"venomous\": 0, \"fins\": 0, \"legs\": 4, \"tail\": 1, \"domestic\": 0, \"cat-size\": 1, \"type\": 1}, {\"animal name\": \"pussycat\", \"hair\": 1, \"feathers\": 0, \"eggs\": 0, \"milk\": 1, \"airbone\": 0, \"aquatic\": 0, \"predator\": 1, \"toothed\": 1, \"backbone\": 1, \"breathes\": 1, \"venomous\": 0, \"fins\": 0, \"legs\": 4, \"tail\": 1, \"domestic\": 1, \"cat-size\": 1, \"type\": 1}, {\"animal name\": \"raccoon\", \"hair\": 1, \"feathers\": 0, \"eggs\": 0, \"milk\": 1, \"airbone\": 0, \"aquatic\": 0, \"predator\": 1, \"toothed\": 1, \"backbone\": 1, \"breathes\": 1, \"venomous\": 0, \"fins\": 0, \"legs\": 4, \"tail\": 1, \"domestic\": 0, \"cat-size\": 1, \"type\": 1}, {\"animal name\": \"reindeer\", \"hair\": 1, \"feathers\": 0, \"eggs\": 0, \"milk\": 1, \"airbone\": 0, \"aquatic\": 0, \"predator\": 0, \"toothed\": 1, \"backbone\": 1, \"breathes\": 1, \"venomous\": 0, \"fins\": 0, \"legs\": 4, \"tail\": 1, \"domestic\": 1, \"cat-size\": 1, \"type\": 1}, {\"animal name\": \"rhea\", \"hair\": 0, \"feathers\": 1, \"eggs\": 1, \"milk\": 0, \"airbone\": 0, \"aquatic\": 0, \"predator\": 1, \"toothed\": 0, \"backbone\": 1, \"breathes\": 1, \"venomous\": 0, \"fins\": 0, \"legs\": 2, \"tail\": 1, \"domestic\": 0, \"cat-size\": 1, \"type\": 2}, {\"animal name\": \"scorpion\", \"hair\": 0, \"feathers\": 0, \"eggs\": 0, \"milk\": 0, \"airbone\": 0, \"aquatic\": 0, \"predator\": 1, \"toothed\": 0, \"backbone\": 0, \"breathes\": 1, \"venomous\": 1, \"fins\": 0, \"legs\": 8, \"tail\": 1, \"domestic\": 0, \"cat-size\": 0, \"type\": 7}, {\"animal name\": \"seahorse\", \"hair\": 0, \"feathers\": 0, \"eggs\": 1, \"milk\": 0, \"airbone\": 0, \"aquatic\": 1, \"predator\": 0, \"toothed\": 1, \"backbone\": 1, \"breathes\": 0, \"venomous\": 0, \"fins\": 1, \"legs\": 0, \"tail\": 1, \"domestic\": 0, \"cat-size\": 0, \"type\": 4}, {\"animal name\": \"seal\", \"hair\": 1, \"feathers\": 0, \"eggs\": 0, \"milk\": 1, \"airbone\": 0, \"aquatic\": 1, \"predator\": 1, \"toothed\": 1, \"backbone\": 1, \"breathes\": 1, \"venomous\": 0, \"fins\": 1, \"legs\": 0, \"tail\": 0, \"domestic\": 0, \"cat-size\": 1, \"type\": 1}, {\"animal name\": \"sealion\", \"hair\": 1, \"feathers\": 0, \"eggs\": 0, \"milk\": 1, \"airbone\": 0, \"aquatic\": 1, \"predator\": 1, \"toothed\": 1, \"backbone\": 1, \"breathes\": 1, \"venomous\": 0, \"fins\": 1, \"legs\": 2, \"tail\": 1, \"domestic\": 0, \"cat-size\": 1, \"type\": 1}, {\"animal name\": \"seasnake\", \"hair\": 0, \"feathers\": 0, \"eggs\": 0, \"milk\": 0, \"airbone\": 0, \"aquatic\": 1, \"predator\": 1, \"toothed\": 1, \"backbone\": 1, \"breathes\": 0, \"venomous\": 1, \"fins\": 0, \"legs\": 0, \"tail\": 1, \"domestic\": 0, \"cat-size\": 0, \"type\": 3}, {\"animal name\": \"seawasp\", \"hair\": 0, \"feathers\": 0, \"eggs\": 1, \"milk\": 0, \"airbone\": 0, \"aquatic\": 1, \"predator\": 1, \"toothed\": 0, \"backbone\": 0, \"breathes\": 0, \"venomous\": 1, \"fins\": 0, \"legs\": 0, \"tail\": 0, \"domestic\": 0, \"cat-size\": 0, \"type\": 7}, {\"animal name\": \"skimmer\", \"hair\": 0, \"feathers\": 1, \"eggs\": 1, \"milk\": 0, \"airbone\": 1, \"aquatic\": 1, \"predator\": 1, \"toothed\": 0, \"backbone\": 1, \"breathes\": 1, \"venomous\": 0, \"fins\": 0, \"legs\": 2, \"tail\": 1, \"domestic\": 0, \"cat-size\": 0, \"type\": 2}, {\"animal name\": \"skua\", \"hair\": 0, \"feathers\": 1, \"eggs\": 1, \"milk\": 0, \"airbone\": 1, \"aquatic\": 1, \"predator\": 1, \"toothed\": 0, \"backbone\": 1, \"breathes\": 1, \"venomous\": 0, \"fins\": 0, \"legs\": 2, \"tail\": 1, \"domestic\": 0, \"cat-size\": 0, \"type\": 2}, {\"animal name\": \"slowworm\", \"hair\": 0, \"feathers\": 0, \"eggs\": 1, \"milk\": 0, \"airbone\": 0, \"aquatic\": 0, \"predator\": 1, \"toothed\": 1, \"backbone\": 1, \"breathes\": 1, \"venomous\": 0, \"fins\": 0, \"legs\": 0, \"tail\": 1, \"domestic\": 0, \"cat-size\": 0, \"type\": 3}, {\"animal name\": \"slug\", \"hair\": 0, \"feathers\": 0, \"eggs\": 1, \"milk\": 0, \"airbone\": 0, \"aquatic\": 0, \"predator\": 0, \"toothed\": 0, \"backbone\": 0, \"breathes\": 1, \"venomous\": 0, \"fins\": 0, \"legs\": 0, \"tail\": 0, \"domestic\": 0, \"cat-size\": 0, \"type\": 7}, {\"animal name\": \"sole\", \"hair\": 0, \"feathers\": 0, \"eggs\": 1, \"milk\": 0, \"airbone\": 0, \"aquatic\": 1, \"predator\": 0, \"toothed\": 1, \"backbone\": 1, \"breathes\": 0, \"venomous\": 0, \"fins\": 1, \"legs\": 0, \"tail\": 1, \"domestic\": 0, \"cat-size\": 0, \"type\": 4}, {\"animal name\": \"sparrow\", \"hair\": 0, \"feathers\": 1, \"eggs\": 1, \"milk\": 0, \"airbone\": 1, \"aquatic\": 0, \"predator\": 0, \"toothed\": 0, \"backbone\": 1, \"breathes\": 1, \"venomous\": 0, \"fins\": 0, \"legs\": 2, \"tail\": 1, \"domestic\": 0, \"cat-size\": 0, \"type\": 2}, {\"animal name\": \"squirrel\", \"hair\": 1, \"feathers\": 0, \"eggs\": 0, \"milk\": 1, \"airbone\": 0, \"aquatic\": 0, \"predator\": 0, \"toothed\": 1, \"backbone\": 1, \"breathes\": 1, \"venomous\": 0, \"fins\": 0, \"legs\": 2, \"tail\": 1, \"domestic\": 0, \"cat-size\": 0, \"type\": 1}, {\"animal name\": \"starfish\", \"hair\": 0, \"feathers\": 0, \"eggs\": 1, \"milk\": 0, \"airbone\": 0, \"aquatic\": 1, \"predator\": 1, \"toothed\": 0, \"backbone\": 0, \"breathes\": 0, \"venomous\": 0, \"fins\": 0, \"legs\": 5, \"tail\": 0, \"domestic\": 0, \"cat-size\": 0, \"type\": 7}, {\"animal name\": \"stingray\", \"hair\": 0, \"feathers\": 0, \"eggs\": 1, \"milk\": 0, \"airbone\": 0, \"aquatic\": 1, \"predator\": 1, \"toothed\": 1, \"backbone\": 1, \"breathes\": 0, \"venomous\": 1, \"fins\": 1, \"legs\": 0, \"tail\": 1, \"domestic\": 0, \"cat-size\": 1, \"type\": 4}, {\"animal name\": \"swan\", \"hair\": 0, \"feathers\": 1, \"eggs\": 1, \"milk\": 0, \"airbone\": 1, \"aquatic\": 1, \"predator\": 0, \"toothed\": 0, \"backbone\": 1, \"breathes\": 1, \"venomous\": 0, \"fins\": 0, \"legs\": 2, \"tail\": 1, \"domestic\": 0, \"cat-size\": 1, \"type\": 2}, {\"animal name\": \"termite\", \"hair\": 0, \"feathers\": 0, \"eggs\": 1, \"milk\": 0, \"airbone\": 0, \"aquatic\": 0, \"predator\": 0, \"toothed\": 0, \"backbone\": 0, \"breathes\": 1, \"venomous\": 0, \"fins\": 0, \"legs\": 6, \"tail\": 0, \"domestic\": 0, \"cat-size\": 0, \"type\": 6}, {\"animal name\": \"toad\", \"hair\": 0, \"feathers\": 0, \"eggs\": 1, \"milk\": 0, \"airbone\": 0, \"aquatic\": 1, \"predator\": 0, \"toothed\": 1, \"backbone\": 1, \"breathes\": 1, \"venomous\": 0, \"fins\": 0, \"legs\": 4, \"tail\": 0, \"domestic\": 0, \"cat-size\": 0, \"type\": 5}, {\"animal name\": \"tortoise\", \"hair\": 0, \"feathers\": 0, \"eggs\": 1, \"milk\": 0, \"airbone\": 0, \"aquatic\": 0, \"predator\": 0, \"toothed\": 0, \"backbone\": 1, \"breathes\": 1, \"venomous\": 0, \"fins\": 0, \"legs\": 4, \"tail\": 1, \"domestic\": 0, \"cat-size\": 1, \"type\": 3}, {\"animal name\": \"tuatara\", \"hair\": 0, \"feathers\": 0, \"eggs\": 1, \"milk\": 0, \"airbone\": 0, \"aquatic\": 0, \"predator\": 1, \"toothed\": 1, \"backbone\": 1, \"breathes\": 1, \"venomous\": 0, \"fins\": 0, \"legs\": 4, \"tail\": 1, \"domestic\": 0, \"cat-size\": 0, \"type\": 3}, {\"animal name\": \"tuna\", \"hair\": 0, \"feathers\": 0, \"eggs\": 1, \"milk\": 0, \"airbone\": 0, \"aquatic\": 1, \"predator\": 1, \"toothed\": 1, \"backbone\": 1, \"breathes\": 0, \"venomous\": 0, \"fins\": 1, \"legs\": 0, \"tail\": 1, \"domestic\": 0, \"cat-size\": 1, \"type\": 4}, {\"animal name\": \"vampire\", \"hair\": 1, \"feathers\": 0, \"eggs\": 0, \"milk\": 1, \"airbone\": 1, \"aquatic\": 0, \"predator\": 0, \"toothed\": 1, \"backbone\": 1, \"breathes\": 1, \"venomous\": 0, \"fins\": 0, \"legs\": 2, \"tail\": 1, \"domestic\": 0, \"cat-size\": 0, \"type\": 1}, {\"animal name\": \"vole\", \"hair\": 1, \"feathers\": 0, \"eggs\": 0, \"milk\": 1, \"airbone\": 0, \"aquatic\": 0, \"predator\": 0, \"toothed\": 1, \"backbone\": 1, \"breathes\": 1, \"venomous\": 0, \"fins\": 0, \"legs\": 4, \"tail\": 1, \"domestic\": 0, \"cat-size\": 0, \"type\": 1}, {\"animal name\": \"vulture\", \"hair\": 0, \"feathers\": 1, \"eggs\": 1, \"milk\": 0, \"airbone\": 1, \"aquatic\": 0, \"predator\": 1, \"toothed\": 0, \"backbone\": 1, \"breathes\": 1, \"venomous\": 0, \"fins\": 0, \"legs\": 2, \"tail\": 1, \"domestic\": 0, \"cat-size\": 1, \"type\": 2}, {\"animal name\": \"wallaby\", \"hair\": 1, \"feathers\": 0, \"eggs\": 0, \"milk\": 1, \"airbone\": 0, \"aquatic\": 0, \"predator\": 0, \"toothed\": 1, \"backbone\": 1, \"breathes\": 1, \"venomous\": 0, \"fins\": 0, \"legs\": 2, \"tail\": 1, \"domestic\": 0, \"cat-size\": 1, \"type\": 1}, {\"animal name\": \"wasp\", \"hair\": 1, \"feathers\": 0, \"eggs\": 1, \"milk\": 0, \"airbone\": 1, \"aquatic\": 0, \"predator\": 0, \"toothed\": 0, \"backbone\": 0, \"breathes\": 1, \"venomous\": 1, \"fins\": 0, \"legs\": 6, \"tail\": 0, \"domestic\": 0, \"cat-size\": 0, \"type\": 6}, {\"animal name\": \"wolf\", \"hair\": 1, \"feathers\": 0, \"eggs\": 0, \"milk\": 1, \"airbone\": 0, \"aquatic\": 0, \"predator\": 1, \"toothed\": 1, \"backbone\": 1, \"breathes\": 1, \"venomous\": 0, \"fins\": 0, \"legs\": 4, \"tail\": 1, \"domestic\": 0, \"cat-size\": 1, \"type\": 1}, {\"animal name\": \"worm\", \"hair\": 0, \"feathers\": 0, \"eggs\": 1, \"milk\": 0, \"airbone\": 0, \"aquatic\": 0, \"predator\": 0, \"toothed\": 0, \"backbone\": 0, \"breathes\": 1, \"venomous\": 0, \"fins\": 0, \"legs\": 0, \"tail\": 0, \"domestic\": 0, \"cat-size\": 0, \"type\": 7}, {\"animal name\": \"wren\", \"hair\": 0, \"feathers\": 1, \"eggs\": 1, \"milk\": 0, \"airbone\": 1, \"aquatic\": 0, \"predator\": 0, \"toothed\": 0, \"backbone\": 1, \"breathes\": 1, \"venomous\": 0, \"fins\": 0, \"legs\": 2, \"tail\": 1, \"domestic\": 0, \"cat-size\": 0, \"type\": 2}]}}, {\"mode\": \"vega-lite\"});\n",
       "</script>"
      ],
      "text/plain": [
       "alt.Chart(...)"
      ]
     },
     "execution_count": 13,
     "metadata": {},
     "output_type": "execute_result"
    }
   ],
   "source": [
    "plot_01"
   ]
  },
  {
   "cell_type": "code",
   "execution_count": 14,
   "metadata": {},
   "outputs": [],
   "source": [
    "plot_02 = alt.Chart(df_zoo).mark_bar().encode(\n",
    "    x='animal name',\n",
    "    y='legs')"
   ]
  },
  {
   "cell_type": "code",
   "execution_count": 15,
   "metadata": {},
   "outputs": [
    {
     "data": {
      "text/html": [
       "\n",
       "<style>\n",
       "  #altair-viz-63f293579233417f936ec3387bb36f59.vega-embed {\n",
       "    width: 100%;\n",
       "    display: flex;\n",
       "  }\n",
       "\n",
       "  #altair-viz-63f293579233417f936ec3387bb36f59.vega-embed details,\n",
       "  #altair-viz-63f293579233417f936ec3387bb36f59.vega-embed details summary {\n",
       "    position: relative;\n",
       "  }\n",
       "</style>\n",
       "<div id=\"altair-viz-63f293579233417f936ec3387bb36f59\"></div>\n",
       "<script type=\"text/javascript\">\n",
       "  var VEGA_DEBUG = (typeof VEGA_DEBUG == \"undefined\") ? {} : VEGA_DEBUG;\n",
       "  (function(spec, embedOpt){\n",
       "    let outputDiv = document.currentScript.previousElementSibling;\n",
       "    if (outputDiv.id !== \"altair-viz-63f293579233417f936ec3387bb36f59\") {\n",
       "      outputDiv = document.getElementById(\"altair-viz-63f293579233417f936ec3387bb36f59\");\n",
       "    }\n",
       "    const paths = {\n",
       "      \"vega\": \"https://cdn.jsdelivr.net/npm/vega@5?noext\",\n",
       "      \"vega-lib\": \"https://cdn.jsdelivr.net/npm/vega-lib?noext\",\n",
       "      \"vega-lite\": \"https://cdn.jsdelivr.net/npm/vega-lite@5.17.0?noext\",\n",
       "      \"vega-embed\": \"https://cdn.jsdelivr.net/npm/vega-embed@6?noext\",\n",
       "    };\n",
       "\n",
       "    function maybeLoadScript(lib, version) {\n",
       "      var key = `${lib.replace(\"-\", \"\")}_version`;\n",
       "      return (VEGA_DEBUG[key] == version) ?\n",
       "        Promise.resolve(paths[lib]) :\n",
       "        new Promise(function(resolve, reject) {\n",
       "          var s = document.createElement('script');\n",
       "          document.getElementsByTagName(\"head\")[0].appendChild(s);\n",
       "          s.async = true;\n",
       "          s.onload = () => {\n",
       "            VEGA_DEBUG[key] = version;\n",
       "            return resolve(paths[lib]);\n",
       "          };\n",
       "          s.onerror = () => reject(`Error loading script: ${paths[lib]}`);\n",
       "          s.src = paths[lib];\n",
       "        });\n",
       "    }\n",
       "\n",
       "    function showError(err) {\n",
       "      outputDiv.innerHTML = `<div class=\"error\" style=\"color:red;\">${err}</div>`;\n",
       "      throw err;\n",
       "    }\n",
       "\n",
       "    function displayChart(vegaEmbed) {\n",
       "      vegaEmbed(outputDiv, spec, embedOpt)\n",
       "        .catch(err => showError(`Javascript Error: ${err.message}<br>This usually means there's a typo in your chart specification. See the javascript console for the full traceback.`));\n",
       "    }\n",
       "\n",
       "    if(typeof define === \"function\" && define.amd) {\n",
       "      requirejs.config({paths});\n",
       "      require([\"vega-embed\"], displayChart, err => showError(`Error loading script: ${err.message}`));\n",
       "    } else {\n",
       "      maybeLoadScript(\"vega\", \"5\")\n",
       "        .then(() => maybeLoadScript(\"vega-lite\", \"5.17.0\"))\n",
       "        .then(() => maybeLoadScript(\"vega-embed\", \"6\"))\n",
       "        .catch(showError)\n",
       "        .then(() => displayChart(vegaEmbed));\n",
       "    }\n",
       "  })({\"config\": {\"view\": {\"continuousWidth\": 300, \"continuousHeight\": 300}}, \"data\": {\"name\": \"data-b73ff341574304b68fceff5d69f0194b\"}, \"mark\": {\"type\": \"bar\"}, \"encoding\": {\"x\": {\"field\": \"animal name\", \"type\": \"nominal\"}, \"y\": {\"field\": \"legs\", \"type\": \"quantitative\"}}, \"$schema\": \"https://vega.github.io/schema/vega-lite/v5.17.0.json\", \"datasets\": {\"data-b73ff341574304b68fceff5d69f0194b\": [{\"animal name\": \"antelope\", \"hair\": 1, \"feathers\": 0, \"eggs\": 0, \"milk\": 1, \"airbone\": 0, \"aquatic\": 0, \"predator\": 0, \"toothed\": 1, \"backbone\": 1, \"breathes\": 1, \"venomous\": 0, \"fins\": 0, \"legs\": 4, \"tail\": 1, \"domestic\": 0, \"cat-size\": 1, \"type\": 1}, {\"animal name\": \"bass\", \"hair\": 0, \"feathers\": 0, \"eggs\": 1, \"milk\": 0, \"airbone\": 0, \"aquatic\": 1, \"predator\": 1, \"toothed\": 1, \"backbone\": 1, \"breathes\": 0, \"venomous\": 0, \"fins\": 1, \"legs\": 0, \"tail\": 1, \"domestic\": 0, \"cat-size\": 0, \"type\": 4}, {\"animal name\": \"bear\", \"hair\": 1, \"feathers\": 0, \"eggs\": 0, \"milk\": 1, \"airbone\": 0, \"aquatic\": 0, \"predator\": 1, \"toothed\": 1, \"backbone\": 1, \"breathes\": 1, \"venomous\": 0, \"fins\": 0, \"legs\": 4, \"tail\": 0, \"domestic\": 0, \"cat-size\": 1, \"type\": 1}, {\"animal name\": \"boar\", \"hair\": 1, \"feathers\": 0, \"eggs\": 0, \"milk\": 1, \"airbone\": 0, \"aquatic\": 0, \"predator\": 1, \"toothed\": 1, \"backbone\": 1, \"breathes\": 1, \"venomous\": 0, \"fins\": 0, \"legs\": 4, \"tail\": 1, \"domestic\": 0, \"cat-size\": 1, \"type\": 1}, {\"animal name\": \"buffalo\", \"hair\": 1, \"feathers\": 0, \"eggs\": 0, \"milk\": 1, \"airbone\": 0, \"aquatic\": 0, \"predator\": 0, \"toothed\": 1, \"backbone\": 1, \"breathes\": 1, \"venomous\": 0, \"fins\": 0, \"legs\": 4, \"tail\": 1, \"domestic\": 0, \"cat-size\": 1, \"type\": 1}, {\"animal name\": \"calf\", \"hair\": 1, \"feathers\": 0, \"eggs\": 0, \"milk\": 1, \"airbone\": 0, \"aquatic\": 0, \"predator\": 0, \"toothed\": 1, \"backbone\": 1, \"breathes\": 1, \"venomous\": 0, \"fins\": 0, \"legs\": 4, \"tail\": 1, \"domestic\": 1, \"cat-size\": 1, \"type\": 1}, {\"animal name\": \"carp\", \"hair\": 0, \"feathers\": 0, \"eggs\": 1, \"milk\": 0, \"airbone\": 0, \"aquatic\": 1, \"predator\": 0, \"toothed\": 1, \"backbone\": 1, \"breathes\": 0, \"venomous\": 0, \"fins\": 1, \"legs\": 0, \"tail\": 1, \"domestic\": 1, \"cat-size\": 0, \"type\": 4}, {\"animal name\": \"catfish\", \"hair\": 0, \"feathers\": 0, \"eggs\": 1, \"milk\": 0, \"airbone\": 0, \"aquatic\": 1, \"predator\": 1, \"toothed\": 1, \"backbone\": 1, \"breathes\": 0, \"venomous\": 0, \"fins\": 1, \"legs\": 0, \"tail\": 1, \"domestic\": 0, \"cat-size\": 0, \"type\": 4}, {\"animal name\": \"cavy\", \"hair\": 1, \"feathers\": 0, \"eggs\": 0, \"milk\": 1, \"airbone\": 0, \"aquatic\": 0, \"predator\": 0, \"toothed\": 1, \"backbone\": 1, \"breathes\": 1, \"venomous\": 0, \"fins\": 0, \"legs\": 4, \"tail\": 0, \"domestic\": 1, \"cat-size\": 0, \"type\": 1}, {\"animal name\": \"cheetah\", \"hair\": 1, \"feathers\": 0, \"eggs\": 0, \"milk\": 1, \"airbone\": 0, \"aquatic\": 0, \"predator\": 1, \"toothed\": 1, \"backbone\": 1, \"breathes\": 1, \"venomous\": 0, \"fins\": 0, \"legs\": 4, \"tail\": 1, \"domestic\": 0, \"cat-size\": 1, \"type\": 1}, {\"animal name\": \"chicken\", \"hair\": 0, \"feathers\": 1, \"eggs\": 1, \"milk\": 0, \"airbone\": 1, \"aquatic\": 0, \"predator\": 0, \"toothed\": 0, \"backbone\": 1, \"breathes\": 1, \"venomous\": 0, \"fins\": 0, \"legs\": 2, \"tail\": 1, \"domestic\": 1, \"cat-size\": 0, \"type\": 2}, {\"animal name\": \"chub\", \"hair\": 0, \"feathers\": 0, \"eggs\": 1, \"milk\": 0, \"airbone\": 0, \"aquatic\": 1, \"predator\": 1, \"toothed\": 1, \"backbone\": 1, \"breathes\": 0, \"venomous\": 0, \"fins\": 1, \"legs\": 0, \"tail\": 1, \"domestic\": 0, \"cat-size\": 0, \"type\": 4}, {\"animal name\": \"clam\", \"hair\": 0, \"feathers\": 0, \"eggs\": 1, \"milk\": 0, \"airbone\": 0, \"aquatic\": 0, \"predator\": 1, \"toothed\": 0, \"backbone\": 0, \"breathes\": 0, \"venomous\": 0, \"fins\": 0, \"legs\": 0, \"tail\": 0, \"domestic\": 0, \"cat-size\": 0, \"type\": 7}, {\"animal name\": \"crab\", \"hair\": 0, \"feathers\": 0, \"eggs\": 1, \"milk\": 0, \"airbone\": 0, \"aquatic\": 1, \"predator\": 1, \"toothed\": 0, \"backbone\": 0, \"breathes\": 0, \"venomous\": 0, \"fins\": 0, \"legs\": 4, \"tail\": 0, \"domestic\": 0, \"cat-size\": 0, \"type\": 7}, {\"animal name\": \"crayfish\", \"hair\": 0, \"feathers\": 0, \"eggs\": 1, \"milk\": 0, \"airbone\": 0, \"aquatic\": 1, \"predator\": 1, \"toothed\": 0, \"backbone\": 0, \"breathes\": 0, \"venomous\": 0, \"fins\": 0, \"legs\": 6, \"tail\": 0, \"domestic\": 0, \"cat-size\": 0, \"type\": 7}, {\"animal name\": \"crow\", \"hair\": 0, \"feathers\": 1, \"eggs\": 1, \"milk\": 0, \"airbone\": 1, \"aquatic\": 0, \"predator\": 1, \"toothed\": 0, \"backbone\": 1, \"breathes\": 1, \"venomous\": 0, \"fins\": 0, \"legs\": 2, \"tail\": 1, \"domestic\": 0, \"cat-size\": 0, \"type\": 2}, {\"animal name\": \"deer\", \"hair\": 1, \"feathers\": 0, \"eggs\": 0, \"milk\": 1, \"airbone\": 0, \"aquatic\": 0, \"predator\": 0, \"toothed\": 1, \"backbone\": 1, \"breathes\": 1, \"venomous\": 0, \"fins\": 0, \"legs\": 4, \"tail\": 1, \"domestic\": 0, \"cat-size\": 1, \"type\": 1}, {\"animal name\": \"dogfish\", \"hair\": 0, \"feathers\": 0, \"eggs\": 1, \"milk\": 0, \"airbone\": 0, \"aquatic\": 1, \"predator\": 1, \"toothed\": 1, \"backbone\": 1, \"breathes\": 0, \"venomous\": 0, \"fins\": 1, \"legs\": 0, \"tail\": 1, \"domestic\": 0, \"cat-size\": 1, \"type\": 4}, {\"animal name\": \"dolphin\", \"hair\": 0, \"feathers\": 0, \"eggs\": 0, \"milk\": 1, \"airbone\": 0, \"aquatic\": 1, \"predator\": 1, \"toothed\": 1, \"backbone\": 1, \"breathes\": 1, \"venomous\": 0, \"fins\": 1, \"legs\": 0, \"tail\": 1, \"domestic\": 0, \"cat-size\": 1, \"type\": 1}, {\"animal name\": \"dove\", \"hair\": 0, \"feathers\": 1, \"eggs\": 1, \"milk\": 0, \"airbone\": 1, \"aquatic\": 0, \"predator\": 0, \"toothed\": 0, \"backbone\": 1, \"breathes\": 1, \"venomous\": 0, \"fins\": 0, \"legs\": 2, \"tail\": 1, \"domestic\": 1, \"cat-size\": 0, \"type\": 2}, {\"animal name\": \"duck\", \"hair\": 0, \"feathers\": 1, \"eggs\": 1, \"milk\": 0, \"airbone\": 1, \"aquatic\": 1, \"predator\": 0, \"toothed\": 0, \"backbone\": 1, \"breathes\": 1, \"venomous\": 0, \"fins\": 0, \"legs\": 2, \"tail\": 1, \"domestic\": 0, \"cat-size\": 0, \"type\": 2}, {\"animal name\": \"elephant\", \"hair\": 1, \"feathers\": 0, \"eggs\": 0, \"milk\": 1, \"airbone\": 0, \"aquatic\": 0, \"predator\": 0, \"toothed\": 1, \"backbone\": 1, \"breathes\": 1, \"venomous\": 0, \"fins\": 0, \"legs\": 4, \"tail\": 1, \"domestic\": 0, \"cat-size\": 1, \"type\": 1}, {\"animal name\": \"flamingo\", \"hair\": 0, \"feathers\": 1, \"eggs\": 1, \"milk\": 0, \"airbone\": 1, \"aquatic\": 0, \"predator\": 0, \"toothed\": 0, \"backbone\": 1, \"breathes\": 1, \"venomous\": 0, \"fins\": 0, \"legs\": 2, \"tail\": 1, \"domestic\": 0, \"cat-size\": 1, \"type\": 2}, {\"animal name\": \"flea\", \"hair\": 0, \"feathers\": 0, \"eggs\": 1, \"milk\": 0, \"airbone\": 0, \"aquatic\": 0, \"predator\": 0, \"toothed\": 0, \"backbone\": 0, \"breathes\": 1, \"venomous\": 0, \"fins\": 0, \"legs\": 6, \"tail\": 0, \"domestic\": 0, \"cat-size\": 0, \"type\": 6}, {\"animal name\": \"frog\", \"hair\": 0, \"feathers\": 0, \"eggs\": 1, \"milk\": 0, \"airbone\": 0, \"aquatic\": 1, \"predator\": 1, \"toothed\": 1, \"backbone\": 1, \"breathes\": 1, \"venomous\": 0, \"fins\": 0, \"legs\": 4, \"tail\": 0, \"domestic\": 0, \"cat-size\": 0, \"type\": 5}, {\"animal name\": \"frog\", \"hair\": 0, \"feathers\": 0, \"eggs\": 1, \"milk\": 0, \"airbone\": 0, \"aquatic\": 1, \"predator\": 1, \"toothed\": 1, \"backbone\": 1, \"breathes\": 1, \"venomous\": 1, \"fins\": 0, \"legs\": 4, \"tail\": 0, \"domestic\": 0, \"cat-size\": 0, \"type\": 5}, {\"animal name\": \"fruitbat\", \"hair\": 1, \"feathers\": 0, \"eggs\": 0, \"milk\": 1, \"airbone\": 1, \"aquatic\": 0, \"predator\": 0, \"toothed\": 1, \"backbone\": 1, \"breathes\": 1, \"venomous\": 0, \"fins\": 0, \"legs\": 2, \"tail\": 1, \"domestic\": 0, \"cat-size\": 0, \"type\": 1}, {\"animal name\": \"giraffe\", \"hair\": 1, \"feathers\": 0, \"eggs\": 0, \"milk\": 1, \"airbone\": 0, \"aquatic\": 0, \"predator\": 0, \"toothed\": 1, \"backbone\": 1, \"breathes\": 1, \"venomous\": 0, \"fins\": 0, \"legs\": 4, \"tail\": 1, \"domestic\": 0, \"cat-size\": 1, \"type\": 1}, {\"animal name\": \"girl\", \"hair\": 1, \"feathers\": 0, \"eggs\": 0, \"milk\": 1, \"airbone\": 0, \"aquatic\": 0, \"predator\": 1, \"toothed\": 1, \"backbone\": 1, \"breathes\": 1, \"venomous\": 0, \"fins\": 0, \"legs\": 2, \"tail\": 0, \"domestic\": 1, \"cat-size\": 1, \"type\": 1}, {\"animal name\": \"gnat\", \"hair\": 0, \"feathers\": 0, \"eggs\": 1, \"milk\": 0, \"airbone\": 1, \"aquatic\": 0, \"predator\": 0, \"toothed\": 0, \"backbone\": 0, \"breathes\": 1, \"venomous\": 0, \"fins\": 0, \"legs\": 6, \"tail\": 0, \"domestic\": 0, \"cat-size\": 0, \"type\": 6}, {\"animal name\": \"goat\", \"hair\": 1, \"feathers\": 0, \"eggs\": 0, \"milk\": 1, \"airbone\": 0, \"aquatic\": 0, \"predator\": 0, \"toothed\": 1, \"backbone\": 1, \"breathes\": 1, \"venomous\": 0, \"fins\": 0, \"legs\": 4, \"tail\": 1, \"domestic\": 1, \"cat-size\": 1, \"type\": 1}, {\"animal name\": \"gorilla\", \"hair\": 1, \"feathers\": 0, \"eggs\": 0, \"milk\": 1, \"airbone\": 0, \"aquatic\": 0, \"predator\": 0, \"toothed\": 1, \"backbone\": 1, \"breathes\": 1, \"venomous\": 0, \"fins\": 0, \"legs\": 2, \"tail\": 0, \"domestic\": 0, \"cat-size\": 1, \"type\": 1}, {\"animal name\": \"gull\", \"hair\": 0, \"feathers\": 1, \"eggs\": 1, \"milk\": 0, \"airbone\": 1, \"aquatic\": 1, \"predator\": 1, \"toothed\": 0, \"backbone\": 1, \"breathes\": 1, \"venomous\": 0, \"fins\": 0, \"legs\": 2, \"tail\": 1, \"domestic\": 0, \"cat-size\": 0, \"type\": 2}, {\"animal name\": \"haddock\", \"hair\": 0, \"feathers\": 0, \"eggs\": 1, \"milk\": 0, \"airbone\": 0, \"aquatic\": 1, \"predator\": 0, \"toothed\": 1, \"backbone\": 1, \"breathes\": 0, \"venomous\": 0, \"fins\": 1, \"legs\": 0, \"tail\": 1, \"domestic\": 0, \"cat-size\": 0, \"type\": 4}, {\"animal name\": \"hamster\", \"hair\": 1, \"feathers\": 0, \"eggs\": 0, \"milk\": 1, \"airbone\": 0, \"aquatic\": 0, \"predator\": 0, \"toothed\": 1, \"backbone\": 1, \"breathes\": 1, \"venomous\": 0, \"fins\": 0, \"legs\": 4, \"tail\": 1, \"domestic\": 1, \"cat-size\": 0, \"type\": 1}, {\"animal name\": \"hare\", \"hair\": 1, \"feathers\": 0, \"eggs\": 0, \"milk\": 1, \"airbone\": 0, \"aquatic\": 0, \"predator\": 0, \"toothed\": 1, \"backbone\": 1, \"breathes\": 1, \"venomous\": 0, \"fins\": 0, \"legs\": 4, \"tail\": 1, \"domestic\": 0, \"cat-size\": 0, \"type\": 1}, {\"animal name\": \"hawk\", \"hair\": 0, \"feathers\": 1, \"eggs\": 1, \"milk\": 0, \"airbone\": 1, \"aquatic\": 0, \"predator\": 1, \"toothed\": 0, \"backbone\": 1, \"breathes\": 1, \"venomous\": 0, \"fins\": 0, \"legs\": 2, \"tail\": 1, \"domestic\": 0, \"cat-size\": 0, \"type\": 2}, {\"animal name\": \"herring\", \"hair\": 0, \"feathers\": 0, \"eggs\": 1, \"milk\": 0, \"airbone\": 0, \"aquatic\": 1, \"predator\": 1, \"toothed\": 1, \"backbone\": 1, \"breathes\": 0, \"venomous\": 0, \"fins\": 1, \"legs\": 0, \"tail\": 1, \"domestic\": 0, \"cat-size\": 0, \"type\": 4}, {\"animal name\": \"honeybee\", \"hair\": 1, \"feathers\": 0, \"eggs\": 1, \"milk\": 0, \"airbone\": 1, \"aquatic\": 0, \"predator\": 0, \"toothed\": 0, \"backbone\": 0, \"breathes\": 1, \"venomous\": 1, \"fins\": 0, \"legs\": 6, \"tail\": 0, \"domestic\": 1, \"cat-size\": 0, \"type\": 6}, {\"animal name\": \"housefly\", \"hair\": 1, \"feathers\": 0, \"eggs\": 1, \"milk\": 0, \"airbone\": 1, \"aquatic\": 0, \"predator\": 0, \"toothed\": 0, \"backbone\": 0, \"breathes\": 1, \"venomous\": 0, \"fins\": 0, \"legs\": 6, \"tail\": 0, \"domestic\": 0, \"cat-size\": 0, \"type\": 6}, {\"animal name\": \"kiwi\", \"hair\": 0, \"feathers\": 1, \"eggs\": 1, \"milk\": 0, \"airbone\": 0, \"aquatic\": 0, \"predator\": 1, \"toothed\": 0, \"backbone\": 1, \"breathes\": 1, \"venomous\": 0, \"fins\": 0, \"legs\": 2, \"tail\": 1, \"domestic\": 0, \"cat-size\": 0, \"type\": 2}, {\"animal name\": \"ladybird\", \"hair\": 0, \"feathers\": 0, \"eggs\": 1, \"milk\": 0, \"airbone\": 1, \"aquatic\": 0, \"predator\": 1, \"toothed\": 0, \"backbone\": 0, \"breathes\": 1, \"venomous\": 0, \"fins\": 0, \"legs\": 6, \"tail\": 0, \"domestic\": 0, \"cat-size\": 0, \"type\": 6}, {\"animal name\": \"lark\", \"hair\": 0, \"feathers\": 1, \"eggs\": 1, \"milk\": 0, \"airbone\": 1, \"aquatic\": 0, \"predator\": 0, \"toothed\": 0, \"backbone\": 1, \"breathes\": 1, \"venomous\": 0, \"fins\": 0, \"legs\": 2, \"tail\": 1, \"domestic\": 0, \"cat-size\": 0, \"type\": 2}, {\"animal name\": \"leopard\", \"hair\": 1, \"feathers\": 0, \"eggs\": 0, \"milk\": 1, \"airbone\": 0, \"aquatic\": 0, \"predator\": 1, \"toothed\": 1, \"backbone\": 1, \"breathes\": 1, \"venomous\": 0, \"fins\": 0, \"legs\": 4, \"tail\": 1, \"domestic\": 0, \"cat-size\": 1, \"type\": 1}, {\"animal name\": \"lion\", \"hair\": 1, \"feathers\": 0, \"eggs\": 0, \"milk\": 1, \"airbone\": 0, \"aquatic\": 0, \"predator\": 1, \"toothed\": 1, \"backbone\": 1, \"breathes\": 1, \"venomous\": 0, \"fins\": 0, \"legs\": 4, \"tail\": 1, \"domestic\": 0, \"cat-size\": 1, \"type\": 1}, {\"animal name\": \"lobster\", \"hair\": 0, \"feathers\": 0, \"eggs\": 1, \"milk\": 0, \"airbone\": 0, \"aquatic\": 1, \"predator\": 1, \"toothed\": 0, \"backbone\": 0, \"breathes\": 0, \"venomous\": 0, \"fins\": 0, \"legs\": 6, \"tail\": 0, \"domestic\": 0, \"cat-size\": 0, \"type\": 7}, {\"animal name\": \"lynx\", \"hair\": 1, \"feathers\": 0, \"eggs\": 0, \"milk\": 1, \"airbone\": 0, \"aquatic\": 0, \"predator\": 1, \"toothed\": 1, \"backbone\": 1, \"breathes\": 1, \"venomous\": 0, \"fins\": 0, \"legs\": 4, \"tail\": 1, \"domestic\": 0, \"cat-size\": 1, \"type\": 1}, {\"animal name\": \"mink\", \"hair\": 1, \"feathers\": 0, \"eggs\": 0, \"milk\": 1, \"airbone\": 0, \"aquatic\": 1, \"predator\": 1, \"toothed\": 1, \"backbone\": 1, \"breathes\": 1, \"venomous\": 0, \"fins\": 0, \"legs\": 4, \"tail\": 1, \"domestic\": 0, \"cat-size\": 1, \"type\": 1}, {\"animal name\": \"mole\", \"hair\": 1, \"feathers\": 0, \"eggs\": 0, \"milk\": 1, \"airbone\": 0, \"aquatic\": 0, \"predator\": 1, \"toothed\": 1, \"backbone\": 1, \"breathes\": 1, \"venomous\": 0, \"fins\": 0, \"legs\": 4, \"tail\": 1, \"domestic\": 0, \"cat-size\": 0, \"type\": 1}, {\"animal name\": \"mongoose\", \"hair\": 1, \"feathers\": 0, \"eggs\": 0, \"milk\": 1, \"airbone\": 0, \"aquatic\": 0, \"predator\": 1, \"toothed\": 1, \"backbone\": 1, \"breathes\": 1, \"venomous\": 0, \"fins\": 0, \"legs\": 4, \"tail\": 1, \"domestic\": 0, \"cat-size\": 1, \"type\": 1}, {\"animal name\": \"moth\", \"hair\": 1, \"feathers\": 0, \"eggs\": 1, \"milk\": 0, \"airbone\": 1, \"aquatic\": 0, \"predator\": 0, \"toothed\": 0, \"backbone\": 0, \"breathes\": 1, \"venomous\": 0, \"fins\": 0, \"legs\": 6, \"tail\": 0, \"domestic\": 0, \"cat-size\": 0, \"type\": 6}, {\"animal name\": \"newt\", \"hair\": 0, \"feathers\": 0, \"eggs\": 1, \"milk\": 0, \"airbone\": 0, \"aquatic\": 1, \"predator\": 1, \"toothed\": 1, \"backbone\": 1, \"breathes\": 1, \"venomous\": 0, \"fins\": 0, \"legs\": 4, \"tail\": 1, \"domestic\": 0, \"cat-size\": 0, \"type\": 5}, {\"animal name\": \"octopus\", \"hair\": 0, \"feathers\": 0, \"eggs\": 1, \"milk\": 0, \"airbone\": 0, \"aquatic\": 1, \"predator\": 1, \"toothed\": 0, \"backbone\": 0, \"breathes\": 0, \"venomous\": 0, \"fins\": 0, \"legs\": 8, \"tail\": 0, \"domestic\": 0, \"cat-size\": 1, \"type\": 7}, {\"animal name\": \"opossum\", \"hair\": 1, \"feathers\": 0, \"eggs\": 0, \"milk\": 1, \"airbone\": 0, \"aquatic\": 0, \"predator\": 1, \"toothed\": 1, \"backbone\": 1, \"breathes\": 1, \"venomous\": 0, \"fins\": 0, \"legs\": 4, \"tail\": 1, \"domestic\": 0, \"cat-size\": 0, \"type\": 1}, {\"animal name\": \"oryx\", \"hair\": 1, \"feathers\": 0, \"eggs\": 0, \"milk\": 1, \"airbone\": 0, \"aquatic\": 0, \"predator\": 0, \"toothed\": 1, \"backbone\": 1, \"breathes\": 1, \"venomous\": 0, \"fins\": 0, \"legs\": 4, \"tail\": 1, \"domestic\": 0, \"cat-size\": 1, \"type\": 1}, {\"animal name\": \"ostrich\", \"hair\": 0, \"feathers\": 1, \"eggs\": 1, \"milk\": 0, \"airbone\": 0, \"aquatic\": 0, \"predator\": 0, \"toothed\": 0, \"backbone\": 1, \"breathes\": 1, \"venomous\": 0, \"fins\": 0, \"legs\": 2, \"tail\": 1, \"domestic\": 0, \"cat-size\": 1, \"type\": 2}, {\"animal name\": \"parakeet\", \"hair\": 0, \"feathers\": 1, \"eggs\": 1, \"milk\": 0, \"airbone\": 1, \"aquatic\": 0, \"predator\": 0, \"toothed\": 0, \"backbone\": 1, \"breathes\": 1, \"venomous\": 0, \"fins\": 0, \"legs\": 2, \"tail\": 1, \"domestic\": 1, \"cat-size\": 0, \"type\": 2}, {\"animal name\": \"penguin\", \"hair\": 0, \"feathers\": 1, \"eggs\": 1, \"milk\": 0, \"airbone\": 0, \"aquatic\": 1, \"predator\": 1, \"toothed\": 0, \"backbone\": 1, \"breathes\": 1, \"venomous\": 0, \"fins\": 0, \"legs\": 2, \"tail\": 1, \"domestic\": 0, \"cat-size\": 1, \"type\": 2}, {\"animal name\": \"pheasant\", \"hair\": 0, \"feathers\": 1, \"eggs\": 1, \"milk\": 0, \"airbone\": 1, \"aquatic\": 0, \"predator\": 0, \"toothed\": 0, \"backbone\": 1, \"breathes\": 1, \"venomous\": 0, \"fins\": 0, \"legs\": 2, \"tail\": 1, \"domestic\": 0, \"cat-size\": 0, \"type\": 2}, {\"animal name\": \"pike\", \"hair\": 0, \"feathers\": 0, \"eggs\": 1, \"milk\": 0, \"airbone\": 0, \"aquatic\": 1, \"predator\": 1, \"toothed\": 1, \"backbone\": 1, \"breathes\": 0, \"venomous\": 0, \"fins\": 1, \"legs\": 0, \"tail\": 1, \"domestic\": 0, \"cat-size\": 1, \"type\": 4}, {\"animal name\": \"piranha\", \"hair\": 0, \"feathers\": 0, \"eggs\": 1, \"milk\": 0, \"airbone\": 0, \"aquatic\": 1, \"predator\": 1, \"toothed\": 1, \"backbone\": 1, \"breathes\": 0, \"venomous\": 0, \"fins\": 1, \"legs\": 0, \"tail\": 1, \"domestic\": 0, \"cat-size\": 0, \"type\": 4}, {\"animal name\": \"pitviper\", \"hair\": 0, \"feathers\": 0, \"eggs\": 1, \"milk\": 0, \"airbone\": 0, \"aquatic\": 0, \"predator\": 1, \"toothed\": 1, \"backbone\": 1, \"breathes\": 1, \"venomous\": 1, \"fins\": 0, \"legs\": 0, \"tail\": 1, \"domestic\": 0, \"cat-size\": 0, \"type\": 3}, {\"animal name\": \"platypus\", \"hair\": 1, \"feathers\": 0, \"eggs\": 1, \"milk\": 1, \"airbone\": 0, \"aquatic\": 1, \"predator\": 1, \"toothed\": 0, \"backbone\": 1, \"breathes\": 1, \"venomous\": 0, \"fins\": 0, \"legs\": 4, \"tail\": 1, \"domestic\": 0, \"cat-size\": 1, \"type\": 1}, {\"animal name\": \"polecat\", \"hair\": 1, \"feathers\": 0, \"eggs\": 0, \"milk\": 1, \"airbone\": 0, \"aquatic\": 0, \"predator\": 1, \"toothed\": 1, \"backbone\": 1, \"breathes\": 1, \"venomous\": 0, \"fins\": 0, \"legs\": 4, \"tail\": 1, \"domestic\": 0, \"cat-size\": 1, \"type\": 1}, {\"animal name\": \"pony\", \"hair\": 1, \"feathers\": 0, \"eggs\": 0, \"milk\": 1, \"airbone\": 0, \"aquatic\": 0, \"predator\": 0, \"toothed\": 1, \"backbone\": 1, \"breathes\": 1, \"venomous\": 0, \"fins\": 0, \"legs\": 4, \"tail\": 1, \"domestic\": 1, \"cat-size\": 1, \"type\": 1}, {\"animal name\": \"porpoise\", \"hair\": 0, \"feathers\": 0, \"eggs\": 0, \"milk\": 1, \"airbone\": 0, \"aquatic\": 1, \"predator\": 1, \"toothed\": 1, \"backbone\": 1, \"breathes\": 1, \"venomous\": 0, \"fins\": 1, \"legs\": 0, \"tail\": 1, \"domestic\": 0, \"cat-size\": 1, \"type\": 1}, {\"animal name\": \"puma\", \"hair\": 1, \"feathers\": 0, \"eggs\": 0, \"milk\": 1, \"airbone\": 0, \"aquatic\": 0, \"predator\": 1, \"toothed\": 1, \"backbone\": 1, \"breathes\": 1, \"venomous\": 0, \"fins\": 0, \"legs\": 4, \"tail\": 1, \"domestic\": 0, \"cat-size\": 1, \"type\": 1}, {\"animal name\": \"pussycat\", \"hair\": 1, \"feathers\": 0, \"eggs\": 0, \"milk\": 1, \"airbone\": 0, \"aquatic\": 0, \"predator\": 1, \"toothed\": 1, \"backbone\": 1, \"breathes\": 1, \"venomous\": 0, \"fins\": 0, \"legs\": 4, \"tail\": 1, \"domestic\": 1, \"cat-size\": 1, \"type\": 1}, {\"animal name\": \"raccoon\", \"hair\": 1, \"feathers\": 0, \"eggs\": 0, \"milk\": 1, \"airbone\": 0, \"aquatic\": 0, \"predator\": 1, \"toothed\": 1, \"backbone\": 1, \"breathes\": 1, \"venomous\": 0, \"fins\": 0, \"legs\": 4, \"tail\": 1, \"domestic\": 0, \"cat-size\": 1, \"type\": 1}, {\"animal name\": \"reindeer\", \"hair\": 1, \"feathers\": 0, \"eggs\": 0, \"milk\": 1, \"airbone\": 0, \"aquatic\": 0, \"predator\": 0, \"toothed\": 1, \"backbone\": 1, \"breathes\": 1, \"venomous\": 0, \"fins\": 0, \"legs\": 4, \"tail\": 1, \"domestic\": 1, \"cat-size\": 1, \"type\": 1}, {\"animal name\": \"rhea\", \"hair\": 0, \"feathers\": 1, \"eggs\": 1, \"milk\": 0, \"airbone\": 0, \"aquatic\": 0, \"predator\": 1, \"toothed\": 0, \"backbone\": 1, \"breathes\": 1, \"venomous\": 0, \"fins\": 0, \"legs\": 2, \"tail\": 1, \"domestic\": 0, \"cat-size\": 1, \"type\": 2}, {\"animal name\": \"scorpion\", \"hair\": 0, \"feathers\": 0, \"eggs\": 0, \"milk\": 0, \"airbone\": 0, \"aquatic\": 0, \"predator\": 1, \"toothed\": 0, \"backbone\": 0, \"breathes\": 1, \"venomous\": 1, \"fins\": 0, \"legs\": 8, \"tail\": 1, \"domestic\": 0, \"cat-size\": 0, \"type\": 7}, {\"animal name\": \"seahorse\", \"hair\": 0, \"feathers\": 0, \"eggs\": 1, \"milk\": 0, \"airbone\": 0, \"aquatic\": 1, \"predator\": 0, \"toothed\": 1, \"backbone\": 1, \"breathes\": 0, \"venomous\": 0, \"fins\": 1, \"legs\": 0, \"tail\": 1, \"domestic\": 0, \"cat-size\": 0, \"type\": 4}, {\"animal name\": \"seal\", \"hair\": 1, \"feathers\": 0, \"eggs\": 0, \"milk\": 1, \"airbone\": 0, \"aquatic\": 1, \"predator\": 1, \"toothed\": 1, \"backbone\": 1, \"breathes\": 1, \"venomous\": 0, \"fins\": 1, \"legs\": 0, \"tail\": 0, \"domestic\": 0, \"cat-size\": 1, \"type\": 1}, {\"animal name\": \"sealion\", \"hair\": 1, \"feathers\": 0, \"eggs\": 0, \"milk\": 1, \"airbone\": 0, \"aquatic\": 1, \"predator\": 1, \"toothed\": 1, \"backbone\": 1, \"breathes\": 1, \"venomous\": 0, \"fins\": 1, \"legs\": 2, \"tail\": 1, \"domestic\": 0, \"cat-size\": 1, \"type\": 1}, {\"animal name\": \"seasnake\", \"hair\": 0, \"feathers\": 0, \"eggs\": 0, \"milk\": 0, \"airbone\": 0, \"aquatic\": 1, \"predator\": 1, \"toothed\": 1, \"backbone\": 1, \"breathes\": 0, \"venomous\": 1, \"fins\": 0, \"legs\": 0, \"tail\": 1, \"domestic\": 0, \"cat-size\": 0, \"type\": 3}, {\"animal name\": \"seawasp\", \"hair\": 0, \"feathers\": 0, \"eggs\": 1, \"milk\": 0, \"airbone\": 0, \"aquatic\": 1, \"predator\": 1, \"toothed\": 0, \"backbone\": 0, \"breathes\": 0, \"venomous\": 1, \"fins\": 0, \"legs\": 0, \"tail\": 0, \"domestic\": 0, \"cat-size\": 0, \"type\": 7}, {\"animal name\": \"skimmer\", \"hair\": 0, \"feathers\": 1, \"eggs\": 1, \"milk\": 0, \"airbone\": 1, \"aquatic\": 1, \"predator\": 1, \"toothed\": 0, \"backbone\": 1, \"breathes\": 1, \"venomous\": 0, \"fins\": 0, \"legs\": 2, \"tail\": 1, \"domestic\": 0, \"cat-size\": 0, \"type\": 2}, {\"animal name\": \"skua\", \"hair\": 0, \"feathers\": 1, \"eggs\": 1, \"milk\": 0, \"airbone\": 1, \"aquatic\": 1, \"predator\": 1, \"toothed\": 0, \"backbone\": 1, \"breathes\": 1, \"venomous\": 0, \"fins\": 0, \"legs\": 2, \"tail\": 1, \"domestic\": 0, \"cat-size\": 0, \"type\": 2}, {\"animal name\": \"slowworm\", \"hair\": 0, \"feathers\": 0, \"eggs\": 1, \"milk\": 0, \"airbone\": 0, \"aquatic\": 0, \"predator\": 1, \"toothed\": 1, \"backbone\": 1, \"breathes\": 1, \"venomous\": 0, \"fins\": 0, \"legs\": 0, \"tail\": 1, \"domestic\": 0, \"cat-size\": 0, \"type\": 3}, {\"animal name\": \"slug\", \"hair\": 0, \"feathers\": 0, \"eggs\": 1, \"milk\": 0, \"airbone\": 0, \"aquatic\": 0, \"predator\": 0, \"toothed\": 0, \"backbone\": 0, \"breathes\": 1, \"venomous\": 0, \"fins\": 0, \"legs\": 0, \"tail\": 0, \"domestic\": 0, \"cat-size\": 0, \"type\": 7}, {\"animal name\": \"sole\", \"hair\": 0, \"feathers\": 0, \"eggs\": 1, \"milk\": 0, \"airbone\": 0, \"aquatic\": 1, \"predator\": 0, \"toothed\": 1, \"backbone\": 1, \"breathes\": 0, \"venomous\": 0, \"fins\": 1, \"legs\": 0, \"tail\": 1, \"domestic\": 0, \"cat-size\": 0, \"type\": 4}, {\"animal name\": \"sparrow\", \"hair\": 0, \"feathers\": 1, \"eggs\": 1, \"milk\": 0, \"airbone\": 1, \"aquatic\": 0, \"predator\": 0, \"toothed\": 0, \"backbone\": 1, \"breathes\": 1, \"venomous\": 0, \"fins\": 0, \"legs\": 2, \"tail\": 1, \"domestic\": 0, \"cat-size\": 0, \"type\": 2}, {\"animal name\": \"squirrel\", \"hair\": 1, \"feathers\": 0, \"eggs\": 0, \"milk\": 1, \"airbone\": 0, \"aquatic\": 0, \"predator\": 0, \"toothed\": 1, \"backbone\": 1, \"breathes\": 1, \"venomous\": 0, \"fins\": 0, \"legs\": 2, \"tail\": 1, \"domestic\": 0, \"cat-size\": 0, \"type\": 1}, {\"animal name\": \"starfish\", \"hair\": 0, \"feathers\": 0, \"eggs\": 1, \"milk\": 0, \"airbone\": 0, \"aquatic\": 1, \"predator\": 1, \"toothed\": 0, \"backbone\": 0, \"breathes\": 0, \"venomous\": 0, \"fins\": 0, \"legs\": 5, \"tail\": 0, \"domestic\": 0, \"cat-size\": 0, \"type\": 7}, {\"animal name\": \"stingray\", \"hair\": 0, \"feathers\": 0, \"eggs\": 1, \"milk\": 0, \"airbone\": 0, \"aquatic\": 1, \"predator\": 1, \"toothed\": 1, \"backbone\": 1, \"breathes\": 0, \"venomous\": 1, \"fins\": 1, \"legs\": 0, \"tail\": 1, \"domestic\": 0, \"cat-size\": 1, \"type\": 4}, {\"animal name\": \"swan\", \"hair\": 0, \"feathers\": 1, \"eggs\": 1, \"milk\": 0, \"airbone\": 1, \"aquatic\": 1, \"predator\": 0, \"toothed\": 0, \"backbone\": 1, \"breathes\": 1, \"venomous\": 0, \"fins\": 0, \"legs\": 2, \"tail\": 1, \"domestic\": 0, \"cat-size\": 1, \"type\": 2}, {\"animal name\": \"termite\", \"hair\": 0, \"feathers\": 0, \"eggs\": 1, \"milk\": 0, \"airbone\": 0, \"aquatic\": 0, \"predator\": 0, \"toothed\": 0, \"backbone\": 0, \"breathes\": 1, \"venomous\": 0, \"fins\": 0, \"legs\": 6, \"tail\": 0, \"domestic\": 0, \"cat-size\": 0, \"type\": 6}, {\"animal name\": \"toad\", \"hair\": 0, \"feathers\": 0, \"eggs\": 1, \"milk\": 0, \"airbone\": 0, \"aquatic\": 1, \"predator\": 0, \"toothed\": 1, \"backbone\": 1, \"breathes\": 1, \"venomous\": 0, \"fins\": 0, \"legs\": 4, \"tail\": 0, \"domestic\": 0, \"cat-size\": 0, \"type\": 5}, {\"animal name\": \"tortoise\", \"hair\": 0, \"feathers\": 0, \"eggs\": 1, \"milk\": 0, \"airbone\": 0, \"aquatic\": 0, \"predator\": 0, \"toothed\": 0, \"backbone\": 1, \"breathes\": 1, \"venomous\": 0, \"fins\": 0, \"legs\": 4, \"tail\": 1, \"domestic\": 0, \"cat-size\": 1, \"type\": 3}, {\"animal name\": \"tuatara\", \"hair\": 0, \"feathers\": 0, \"eggs\": 1, \"milk\": 0, \"airbone\": 0, \"aquatic\": 0, \"predator\": 1, \"toothed\": 1, \"backbone\": 1, \"breathes\": 1, \"venomous\": 0, \"fins\": 0, \"legs\": 4, \"tail\": 1, \"domestic\": 0, \"cat-size\": 0, \"type\": 3}, {\"animal name\": \"tuna\", \"hair\": 0, \"feathers\": 0, \"eggs\": 1, \"milk\": 0, \"airbone\": 0, \"aquatic\": 1, \"predator\": 1, \"toothed\": 1, \"backbone\": 1, \"breathes\": 0, \"venomous\": 0, \"fins\": 1, \"legs\": 0, \"tail\": 1, \"domestic\": 0, \"cat-size\": 1, \"type\": 4}, {\"animal name\": \"vampire\", \"hair\": 1, \"feathers\": 0, \"eggs\": 0, \"milk\": 1, \"airbone\": 1, \"aquatic\": 0, \"predator\": 0, \"toothed\": 1, \"backbone\": 1, \"breathes\": 1, \"venomous\": 0, \"fins\": 0, \"legs\": 2, \"tail\": 1, \"domestic\": 0, \"cat-size\": 0, \"type\": 1}, {\"animal name\": \"vole\", \"hair\": 1, \"feathers\": 0, \"eggs\": 0, \"milk\": 1, \"airbone\": 0, \"aquatic\": 0, \"predator\": 0, \"toothed\": 1, \"backbone\": 1, \"breathes\": 1, \"venomous\": 0, \"fins\": 0, \"legs\": 4, \"tail\": 1, \"domestic\": 0, \"cat-size\": 0, \"type\": 1}, {\"animal name\": \"vulture\", \"hair\": 0, \"feathers\": 1, \"eggs\": 1, \"milk\": 0, \"airbone\": 1, \"aquatic\": 0, \"predator\": 1, \"toothed\": 0, \"backbone\": 1, \"breathes\": 1, \"venomous\": 0, \"fins\": 0, \"legs\": 2, \"tail\": 1, \"domestic\": 0, \"cat-size\": 1, \"type\": 2}, {\"animal name\": \"wallaby\", \"hair\": 1, \"feathers\": 0, \"eggs\": 0, \"milk\": 1, \"airbone\": 0, \"aquatic\": 0, \"predator\": 0, \"toothed\": 1, \"backbone\": 1, \"breathes\": 1, \"venomous\": 0, \"fins\": 0, \"legs\": 2, \"tail\": 1, \"domestic\": 0, \"cat-size\": 1, \"type\": 1}, {\"animal name\": \"wasp\", \"hair\": 1, \"feathers\": 0, \"eggs\": 1, \"milk\": 0, \"airbone\": 1, \"aquatic\": 0, \"predator\": 0, \"toothed\": 0, \"backbone\": 0, \"breathes\": 1, \"venomous\": 1, \"fins\": 0, \"legs\": 6, \"tail\": 0, \"domestic\": 0, \"cat-size\": 0, \"type\": 6}, {\"animal name\": \"wolf\", \"hair\": 1, \"feathers\": 0, \"eggs\": 0, \"milk\": 1, \"airbone\": 0, \"aquatic\": 0, \"predator\": 1, \"toothed\": 1, \"backbone\": 1, \"breathes\": 1, \"venomous\": 0, \"fins\": 0, \"legs\": 4, \"tail\": 1, \"domestic\": 0, \"cat-size\": 1, \"type\": 1}, {\"animal name\": \"worm\", \"hair\": 0, \"feathers\": 0, \"eggs\": 1, \"milk\": 0, \"airbone\": 0, \"aquatic\": 0, \"predator\": 0, \"toothed\": 0, \"backbone\": 0, \"breathes\": 1, \"venomous\": 0, \"fins\": 0, \"legs\": 0, \"tail\": 0, \"domestic\": 0, \"cat-size\": 0, \"type\": 7}, {\"animal name\": \"wren\", \"hair\": 0, \"feathers\": 1, \"eggs\": 1, \"milk\": 0, \"airbone\": 1, \"aquatic\": 0, \"predator\": 0, \"toothed\": 0, \"backbone\": 1, \"breathes\": 1, \"venomous\": 0, \"fins\": 0, \"legs\": 2, \"tail\": 1, \"domestic\": 0, \"cat-size\": 0, \"type\": 2}]}}, {\"mode\": \"vega-lite\"});\n",
       "</script>"
      ],
      "text/plain": [
       "alt.Chart(...)"
      ]
     },
     "execution_count": 15,
     "metadata": {},
     "output_type": "execute_result"
    }
   ],
   "source": [
    "plot_02"
   ]
  },
  {
   "cell_type": "markdown",
   "metadata": {},
   "source": []
  },
  {
   "cell_type": "markdown",
   "metadata": {},
   "source": [
    "### 2- Modulo plotply\n",
    "- Por convencion : \n",
    "import plotly.express as px\n",
    "- Hace muchos calculos rapidos por ti\n"
   ]
  },
  {
   "cell_type": "code",
   "execution_count": 16,
   "metadata": {},
   "outputs": [],
   "source": [
    "import plotly.express as px"
   ]
  },
  {
   "cell_type": "markdown",
   "metadata": {},
   "source": [
    "#### Grafico pie():\n",
    "- Sirve para ver de manera rapida y general que datos tenemos y como estan organizados\n",
    "- Se pasa como primer argumento el DataFrame, "
   ]
  },
  {
   "cell_type": "code",
   "execution_count": 20,
   "metadata": {},
   "outputs": [
    {
     "ename": "ValueError",
     "evalue": "Mime type rendering requires nbformat>=4.2.0 but it is not installed",
     "output_type": "error",
     "traceback": [
      "\u001b[0;31m---------------------------------------------------------------------------\u001b[0m",
      "\u001b[0;31mValueError\u001b[0m                                Traceback (most recent call last)",
      "File \u001b[0;32m~/Desarrollo/PYTHON/CursoEDA/envData/lib/python3.11/site-packages/IPython/core/formatters.py:925\u001b[0m, in \u001b[0;36mIPythonDisplayFormatter.__call__\u001b[0;34m(self, obj)\u001b[0m\n\u001b[1;32m    923\u001b[0m method \u001b[38;5;241m=\u001b[39m get_real_method(obj, \u001b[38;5;28mself\u001b[39m\u001b[38;5;241m.\u001b[39mprint_method)\n\u001b[1;32m    924\u001b[0m \u001b[38;5;28;01mif\u001b[39;00m method \u001b[38;5;129;01mis\u001b[39;00m \u001b[38;5;129;01mnot\u001b[39;00m \u001b[38;5;28;01mNone\u001b[39;00m:\n\u001b[0;32m--> 925\u001b[0m     \u001b[43mmethod\u001b[49m\u001b[43m(\u001b[49m\u001b[43m)\u001b[49m\n\u001b[1;32m    926\u001b[0m     \u001b[38;5;28;01mreturn\u001b[39;00m \u001b[38;5;28;01mTrue\u001b[39;00m\n",
      "File \u001b[0;32m~/Desarrollo/PYTHON/CursoEDA/envData/lib/python3.11/site-packages/plotly/basedatatypes.py:832\u001b[0m, in \u001b[0;36mBaseFigure._ipython_display_\u001b[0;34m(self)\u001b[0m\n\u001b[1;32m    829\u001b[0m \u001b[38;5;28;01mimport\u001b[39;00m \u001b[38;5;21;01mplotly\u001b[39;00m\u001b[38;5;21;01m.\u001b[39;00m\u001b[38;5;21;01mio\u001b[39;00m \u001b[38;5;28;01mas\u001b[39;00m \u001b[38;5;21;01mpio\u001b[39;00m\n\u001b[1;32m    831\u001b[0m \u001b[38;5;28;01mif\u001b[39;00m pio\u001b[38;5;241m.\u001b[39mrenderers\u001b[38;5;241m.\u001b[39mrender_on_display \u001b[38;5;129;01mand\u001b[39;00m pio\u001b[38;5;241m.\u001b[39mrenderers\u001b[38;5;241m.\u001b[39mdefault:\n\u001b[0;32m--> 832\u001b[0m     \u001b[43mpio\u001b[49m\u001b[38;5;241;43m.\u001b[39;49m\u001b[43mshow\u001b[49m\u001b[43m(\u001b[49m\u001b[38;5;28;43mself\u001b[39;49m\u001b[43m)\u001b[49m\n\u001b[1;32m    833\u001b[0m \u001b[38;5;28;01melse\u001b[39;00m:\n\u001b[1;32m    834\u001b[0m     \u001b[38;5;28mprint\u001b[39m(\u001b[38;5;28mrepr\u001b[39m(\u001b[38;5;28mself\u001b[39m))\n",
      "File \u001b[0;32m~/Desarrollo/PYTHON/CursoEDA/envData/lib/python3.11/site-packages/plotly/io/_renderers.py:394\u001b[0m, in \u001b[0;36mshow\u001b[0;34m(fig, renderer, validate, **kwargs)\u001b[0m\n\u001b[1;32m    389\u001b[0m         \u001b[38;5;28;01mraise\u001b[39;00m \u001b[38;5;167;01mValueError\u001b[39;00m(\n\u001b[1;32m    390\u001b[0m             \u001b[38;5;124m\"\u001b[39m\u001b[38;5;124mMime type rendering requires ipython but it is not installed\u001b[39m\u001b[38;5;124m\"\u001b[39m\n\u001b[1;32m    391\u001b[0m         )\n\u001b[1;32m    393\u001b[0m     \u001b[38;5;28;01mif\u001b[39;00m \u001b[38;5;129;01mnot\u001b[39;00m nbformat \u001b[38;5;129;01mor\u001b[39;00m Version(nbformat\u001b[38;5;241m.\u001b[39m__version__) \u001b[38;5;241m<\u001b[39m Version(\u001b[38;5;124m\"\u001b[39m\u001b[38;5;124m4.2.0\u001b[39m\u001b[38;5;124m\"\u001b[39m):\n\u001b[0;32m--> 394\u001b[0m         \u001b[38;5;28;01mraise\u001b[39;00m \u001b[38;5;167;01mValueError\u001b[39;00m(\n\u001b[1;32m    395\u001b[0m             \u001b[38;5;124m\"\u001b[39m\u001b[38;5;124mMime type rendering requires nbformat>=4.2.0 but it is not installed\u001b[39m\u001b[38;5;124m\"\u001b[39m\n\u001b[1;32m    396\u001b[0m         )\n\u001b[1;32m    398\u001b[0m     ipython_display\u001b[38;5;241m.\u001b[39mdisplay(bundle, raw\u001b[38;5;241m=\u001b[39m\u001b[38;5;28;01mTrue\u001b[39;00m)\n\u001b[1;32m    400\u001b[0m \u001b[38;5;66;03m# external renderers\u001b[39;00m\n",
      "\u001b[0;31mValueError\u001b[0m: Mime type rendering requires nbformat>=4.2.0 but it is not installed"
     ]
    },
    {
     "data": {
      "application/vnd.plotly.v1+json": {
       "config": {
        "plotlyServerURL": "https://plot.ly"
       },
       "data": [
        {
         "domain": {
          "x": [
           0,
           1
          ],
          "y": [
           0,
           1
          ]
         },
         "hovertemplate": "animal name=%{label}<br>aquatic=%{value}<extra></extra>",
         "labels": [
          "antelope",
          "bass",
          "bear",
          "boar",
          "buffalo",
          "calf",
          "carp",
          "catfish",
          "cavy",
          "cheetah",
          "chicken",
          "chub",
          "clam",
          "crab",
          "crayfish",
          "crow",
          "deer",
          "dogfish",
          "dolphin",
          "dove",
          "duck",
          "elephant",
          "flamingo",
          "flea",
          "frog",
          "frog",
          "fruitbat",
          "giraffe",
          "girl",
          "gnat",
          "goat",
          "gorilla",
          "gull",
          "haddock",
          "hamster",
          "hare",
          "hawk",
          "herring",
          "honeybee",
          "housefly",
          "kiwi",
          "ladybird",
          "lark",
          "leopard",
          "lion",
          "lobster",
          "lynx",
          "mink",
          "mole",
          "mongoose",
          "moth",
          "newt",
          "octopus",
          "opossum",
          "oryx",
          "ostrich",
          "parakeet",
          "penguin",
          "pheasant",
          "pike",
          "piranha",
          "pitviper",
          "platypus",
          "polecat",
          "pony",
          "porpoise",
          "puma",
          "pussycat",
          "raccoon",
          "reindeer",
          "rhea",
          "scorpion",
          "seahorse",
          "seal",
          "sealion",
          "seasnake",
          "seawasp",
          "skimmer",
          "skua",
          "slowworm",
          "slug",
          "sole",
          "sparrow",
          "squirrel",
          "starfish",
          "stingray",
          "swan",
          "termite",
          "toad",
          "tortoise",
          "tuatara",
          "tuna",
          "vampire",
          "vole",
          "vulture",
          "wallaby",
          "wasp",
          "wolf",
          "worm",
          "wren"
         ],
         "legendgroup": "",
         "name": "",
         "showlegend": true,
         "type": "pie",
         "values": [
          0,
          1,
          0,
          0,
          0,
          0,
          1,
          1,
          0,
          0,
          0,
          1,
          0,
          1,
          1,
          0,
          0,
          1,
          1,
          0,
          1,
          0,
          0,
          0,
          1,
          1,
          0,
          0,
          0,
          0,
          0,
          0,
          1,
          1,
          0,
          0,
          0,
          1,
          0,
          0,
          0,
          0,
          0,
          0,
          0,
          1,
          0,
          1,
          0,
          0,
          0,
          1,
          1,
          0,
          0,
          0,
          0,
          1,
          0,
          1,
          1,
          0,
          1,
          0,
          0,
          1,
          0,
          0,
          0,
          0,
          0,
          0,
          1,
          1,
          1,
          1,
          1,
          1,
          1,
          0,
          0,
          1,
          0,
          0,
          1,
          1,
          1,
          0,
          1,
          0,
          0,
          1,
          0,
          0,
          0,
          0,
          0,
          0,
          0,
          0
         ]
        }
       ],
       "layout": {
        "legend": {
         "tracegroupgap": 0
        },
        "template": {
         "data": {
          "bar": [
           {
            "error_x": {
             "color": "#2a3f5f"
            },
            "error_y": {
             "color": "#2a3f5f"
            },
            "marker": {
             "line": {
              "color": "#E5ECF6",
              "width": 0.5
             },
             "pattern": {
              "fillmode": "overlay",
              "size": 10,
              "solidity": 0.2
             }
            },
            "type": "bar"
           }
          ],
          "barpolar": [
           {
            "marker": {
             "line": {
              "color": "#E5ECF6",
              "width": 0.5
             },
             "pattern": {
              "fillmode": "overlay",
              "size": 10,
              "solidity": 0.2
             }
            },
            "type": "barpolar"
           }
          ],
          "carpet": [
           {
            "aaxis": {
             "endlinecolor": "#2a3f5f",
             "gridcolor": "white",
             "linecolor": "white",
             "minorgridcolor": "white",
             "startlinecolor": "#2a3f5f"
            },
            "baxis": {
             "endlinecolor": "#2a3f5f",
             "gridcolor": "white",
             "linecolor": "white",
             "minorgridcolor": "white",
             "startlinecolor": "#2a3f5f"
            },
            "type": "carpet"
           }
          ],
          "choropleth": [
           {
            "colorbar": {
             "outlinewidth": 0,
             "ticks": ""
            },
            "type": "choropleth"
           }
          ],
          "contour": [
           {
            "colorbar": {
             "outlinewidth": 0,
             "ticks": ""
            },
            "colorscale": [
             [
              0,
              "#0d0887"
             ],
             [
              0.1111111111111111,
              "#46039f"
             ],
             [
              0.2222222222222222,
              "#7201a8"
             ],
             [
              0.3333333333333333,
              "#9c179e"
             ],
             [
              0.4444444444444444,
              "#bd3786"
             ],
             [
              0.5555555555555556,
              "#d8576b"
             ],
             [
              0.6666666666666666,
              "#ed7953"
             ],
             [
              0.7777777777777778,
              "#fb9f3a"
             ],
             [
              0.8888888888888888,
              "#fdca26"
             ],
             [
              1,
              "#f0f921"
             ]
            ],
            "type": "contour"
           }
          ],
          "contourcarpet": [
           {
            "colorbar": {
             "outlinewidth": 0,
             "ticks": ""
            },
            "type": "contourcarpet"
           }
          ],
          "heatmap": [
           {
            "colorbar": {
             "outlinewidth": 0,
             "ticks": ""
            },
            "colorscale": [
             [
              0,
              "#0d0887"
             ],
             [
              0.1111111111111111,
              "#46039f"
             ],
             [
              0.2222222222222222,
              "#7201a8"
             ],
             [
              0.3333333333333333,
              "#9c179e"
             ],
             [
              0.4444444444444444,
              "#bd3786"
             ],
             [
              0.5555555555555556,
              "#d8576b"
             ],
             [
              0.6666666666666666,
              "#ed7953"
             ],
             [
              0.7777777777777778,
              "#fb9f3a"
             ],
             [
              0.8888888888888888,
              "#fdca26"
             ],
             [
              1,
              "#f0f921"
             ]
            ],
            "type": "heatmap"
           }
          ],
          "heatmapgl": [
           {
            "colorbar": {
             "outlinewidth": 0,
             "ticks": ""
            },
            "colorscale": [
             [
              0,
              "#0d0887"
             ],
             [
              0.1111111111111111,
              "#46039f"
             ],
             [
              0.2222222222222222,
              "#7201a8"
             ],
             [
              0.3333333333333333,
              "#9c179e"
             ],
             [
              0.4444444444444444,
              "#bd3786"
             ],
             [
              0.5555555555555556,
              "#d8576b"
             ],
             [
              0.6666666666666666,
              "#ed7953"
             ],
             [
              0.7777777777777778,
              "#fb9f3a"
             ],
             [
              0.8888888888888888,
              "#fdca26"
             ],
             [
              1,
              "#f0f921"
             ]
            ],
            "type": "heatmapgl"
           }
          ],
          "histogram": [
           {
            "marker": {
             "pattern": {
              "fillmode": "overlay",
              "size": 10,
              "solidity": 0.2
             }
            },
            "type": "histogram"
           }
          ],
          "histogram2d": [
           {
            "colorbar": {
             "outlinewidth": 0,
             "ticks": ""
            },
            "colorscale": [
             [
              0,
              "#0d0887"
             ],
             [
              0.1111111111111111,
              "#46039f"
             ],
             [
              0.2222222222222222,
              "#7201a8"
             ],
             [
              0.3333333333333333,
              "#9c179e"
             ],
             [
              0.4444444444444444,
              "#bd3786"
             ],
             [
              0.5555555555555556,
              "#d8576b"
             ],
             [
              0.6666666666666666,
              "#ed7953"
             ],
             [
              0.7777777777777778,
              "#fb9f3a"
             ],
             [
              0.8888888888888888,
              "#fdca26"
             ],
             [
              1,
              "#f0f921"
             ]
            ],
            "type": "histogram2d"
           }
          ],
          "histogram2dcontour": [
           {
            "colorbar": {
             "outlinewidth": 0,
             "ticks": ""
            },
            "colorscale": [
             [
              0,
              "#0d0887"
             ],
             [
              0.1111111111111111,
              "#46039f"
             ],
             [
              0.2222222222222222,
              "#7201a8"
             ],
             [
              0.3333333333333333,
              "#9c179e"
             ],
             [
              0.4444444444444444,
              "#bd3786"
             ],
             [
              0.5555555555555556,
              "#d8576b"
             ],
             [
              0.6666666666666666,
              "#ed7953"
             ],
             [
              0.7777777777777778,
              "#fb9f3a"
             ],
             [
              0.8888888888888888,
              "#fdca26"
             ],
             [
              1,
              "#f0f921"
             ]
            ],
            "type": "histogram2dcontour"
           }
          ],
          "mesh3d": [
           {
            "colorbar": {
             "outlinewidth": 0,
             "ticks": ""
            },
            "type": "mesh3d"
           }
          ],
          "parcoords": [
           {
            "line": {
             "colorbar": {
              "outlinewidth": 0,
              "ticks": ""
             }
            },
            "type": "parcoords"
           }
          ],
          "pie": [
           {
            "automargin": true,
            "type": "pie"
           }
          ],
          "scatter": [
           {
            "fillpattern": {
             "fillmode": "overlay",
             "size": 10,
             "solidity": 0.2
            },
            "type": "scatter"
           }
          ],
          "scatter3d": [
           {
            "line": {
             "colorbar": {
              "outlinewidth": 0,
              "ticks": ""
             }
            },
            "marker": {
             "colorbar": {
              "outlinewidth": 0,
              "ticks": ""
             }
            },
            "type": "scatter3d"
           }
          ],
          "scattercarpet": [
           {
            "marker": {
             "colorbar": {
              "outlinewidth": 0,
              "ticks": ""
             }
            },
            "type": "scattercarpet"
           }
          ],
          "scattergeo": [
           {
            "marker": {
             "colorbar": {
              "outlinewidth": 0,
              "ticks": ""
             }
            },
            "type": "scattergeo"
           }
          ],
          "scattergl": [
           {
            "marker": {
             "colorbar": {
              "outlinewidth": 0,
              "ticks": ""
             }
            },
            "type": "scattergl"
           }
          ],
          "scattermapbox": [
           {
            "marker": {
             "colorbar": {
              "outlinewidth": 0,
              "ticks": ""
             }
            },
            "type": "scattermapbox"
           }
          ],
          "scatterpolar": [
           {
            "marker": {
             "colorbar": {
              "outlinewidth": 0,
              "ticks": ""
             }
            },
            "type": "scatterpolar"
           }
          ],
          "scatterpolargl": [
           {
            "marker": {
             "colorbar": {
              "outlinewidth": 0,
              "ticks": ""
             }
            },
            "type": "scatterpolargl"
           }
          ],
          "scatterternary": [
           {
            "marker": {
             "colorbar": {
              "outlinewidth": 0,
              "ticks": ""
             }
            },
            "type": "scatterternary"
           }
          ],
          "surface": [
           {
            "colorbar": {
             "outlinewidth": 0,
             "ticks": ""
            },
            "colorscale": [
             [
              0,
              "#0d0887"
             ],
             [
              0.1111111111111111,
              "#46039f"
             ],
             [
              0.2222222222222222,
              "#7201a8"
             ],
             [
              0.3333333333333333,
              "#9c179e"
             ],
             [
              0.4444444444444444,
              "#bd3786"
             ],
             [
              0.5555555555555556,
              "#d8576b"
             ],
             [
              0.6666666666666666,
              "#ed7953"
             ],
             [
              0.7777777777777778,
              "#fb9f3a"
             ],
             [
              0.8888888888888888,
              "#fdca26"
             ],
             [
              1,
              "#f0f921"
             ]
            ],
            "type": "surface"
           }
          ],
          "table": [
           {
            "cells": {
             "fill": {
              "color": "#EBF0F8"
             },
             "line": {
              "color": "white"
             }
            },
            "header": {
             "fill": {
              "color": "#C8D4E3"
             },
             "line": {
              "color": "white"
             }
            },
            "type": "table"
           }
          ]
         },
         "layout": {
          "annotationdefaults": {
           "arrowcolor": "#2a3f5f",
           "arrowhead": 0,
           "arrowwidth": 1
          },
          "autotypenumbers": "strict",
          "coloraxis": {
           "colorbar": {
            "outlinewidth": 0,
            "ticks": ""
           }
          },
          "colorscale": {
           "diverging": [
            [
             0,
             "#8e0152"
            ],
            [
             0.1,
             "#c51b7d"
            ],
            [
             0.2,
             "#de77ae"
            ],
            [
             0.3,
             "#f1b6da"
            ],
            [
             0.4,
             "#fde0ef"
            ],
            [
             0.5,
             "#f7f7f7"
            ],
            [
             0.6,
             "#e6f5d0"
            ],
            [
             0.7,
             "#b8e186"
            ],
            [
             0.8,
             "#7fbc41"
            ],
            [
             0.9,
             "#4d9221"
            ],
            [
             1,
             "#276419"
            ]
           ],
           "sequential": [
            [
             0,
             "#0d0887"
            ],
            [
             0.1111111111111111,
             "#46039f"
            ],
            [
             0.2222222222222222,
             "#7201a8"
            ],
            [
             0.3333333333333333,
             "#9c179e"
            ],
            [
             0.4444444444444444,
             "#bd3786"
            ],
            [
             0.5555555555555556,
             "#d8576b"
            ],
            [
             0.6666666666666666,
             "#ed7953"
            ],
            [
             0.7777777777777778,
             "#fb9f3a"
            ],
            [
             0.8888888888888888,
             "#fdca26"
            ],
            [
             1,
             "#f0f921"
            ]
           ],
           "sequentialminus": [
            [
             0,
             "#0d0887"
            ],
            [
             0.1111111111111111,
             "#46039f"
            ],
            [
             0.2222222222222222,
             "#7201a8"
            ],
            [
             0.3333333333333333,
             "#9c179e"
            ],
            [
             0.4444444444444444,
             "#bd3786"
            ],
            [
             0.5555555555555556,
             "#d8576b"
            ],
            [
             0.6666666666666666,
             "#ed7953"
            ],
            [
             0.7777777777777778,
             "#fb9f3a"
            ],
            [
             0.8888888888888888,
             "#fdca26"
            ],
            [
             1,
             "#f0f921"
            ]
           ]
          },
          "colorway": [
           "#636efa",
           "#EF553B",
           "#00cc96",
           "#ab63fa",
           "#FFA15A",
           "#19d3f3",
           "#FF6692",
           "#B6E880",
           "#FF97FF",
           "#FECB52"
          ],
          "font": {
           "color": "#2a3f5f"
          },
          "geo": {
           "bgcolor": "white",
           "lakecolor": "white",
           "landcolor": "#E5ECF6",
           "showlakes": true,
           "showland": true,
           "subunitcolor": "white"
          },
          "hoverlabel": {
           "align": "left"
          },
          "hovermode": "closest",
          "mapbox": {
           "style": "light"
          },
          "paper_bgcolor": "white",
          "plot_bgcolor": "#E5ECF6",
          "polar": {
           "angularaxis": {
            "gridcolor": "white",
            "linecolor": "white",
            "ticks": ""
           },
           "bgcolor": "#E5ECF6",
           "radialaxis": {
            "gridcolor": "white",
            "linecolor": "white",
            "ticks": ""
           }
          },
          "scene": {
           "xaxis": {
            "backgroundcolor": "#E5ECF6",
            "gridcolor": "white",
            "gridwidth": 2,
            "linecolor": "white",
            "showbackground": true,
            "ticks": "",
            "zerolinecolor": "white"
           },
           "yaxis": {
            "backgroundcolor": "#E5ECF6",
            "gridcolor": "white",
            "gridwidth": 2,
            "linecolor": "white",
            "showbackground": true,
            "ticks": "",
            "zerolinecolor": "white"
           },
           "zaxis": {
            "backgroundcolor": "#E5ECF6",
            "gridcolor": "white",
            "gridwidth": 2,
            "linecolor": "white",
            "showbackground": true,
            "ticks": "",
            "zerolinecolor": "white"
           }
          },
          "shapedefaults": {
           "line": {
            "color": "#2a3f5f"
           }
          },
          "ternary": {
           "aaxis": {
            "gridcolor": "white",
            "linecolor": "white",
            "ticks": ""
           },
           "baxis": {
            "gridcolor": "white",
            "linecolor": "white",
            "ticks": ""
           },
           "bgcolor": "#E5ECF6",
           "caxis": {
            "gridcolor": "white",
            "linecolor": "white",
            "ticks": ""
           }
          },
          "title": {
           "x": 0.05
          },
          "xaxis": {
           "automargin": true,
           "gridcolor": "white",
           "linecolor": "white",
           "ticks": "",
           "title": {
            "standoff": 15
           },
           "zerolinecolor": "white",
           "zerolinewidth": 2
          },
          "yaxis": {
           "automargin": true,
           "gridcolor": "white",
           "linecolor": "white",
           "ticks": "",
           "title": {
            "standoff": 15
           },
           "zerolinecolor": "white",
           "zerolinewidth": 2
          }
         }
        },
        "title": {
         "text": "Grafica de Pie"
        }
       }
      },
      "text/html": [
       "<div>                        <script type=\"text/javascript\">window.PlotlyConfig = {MathJaxConfig: 'local'};</script>\n",
       "        <script charset=\"utf-8\" src=\"https://cdn.plot.ly/plotly-2.30.0.min.js\"></script>                <div id=\"3267a3ea-e413-42ce-9008-775122daf4cc\" class=\"plotly-graph-div\" style=\"height:100%; width:100%;\"></div>            <script type=\"text/javascript\">                                    window.PLOTLYENV=window.PLOTLYENV || {};                                    if (document.getElementById(\"3267a3ea-e413-42ce-9008-775122daf4cc\")) {                    Plotly.newPlot(                        \"3267a3ea-e413-42ce-9008-775122daf4cc\",                        [{\"domain\":{\"x\":[0.0,1.0],\"y\":[0.0,1.0]},\"hovertemplate\":\"animal name=%{label}\\u003cbr\\u003eaquatic=%{value}\\u003cextra\\u003e\\u003c\\u002fextra\\u003e\",\"labels\":[\"antelope\",\"bass\",\"bear\",\"boar\",\"buffalo\",\"calf\",\"carp\",\"catfish\",\"cavy\",\"cheetah\",\"chicken\",\"chub\",\"clam\",\"crab\",\"crayfish\",\"crow\",\"deer\",\"dogfish\",\"dolphin\",\"dove\",\"duck\",\"elephant\",\"flamingo\",\"flea\",\"frog\",\"frog\",\"fruitbat\",\"giraffe\",\"girl\",\"gnat\",\"goat\",\"gorilla\",\"gull\",\"haddock\",\"hamster\",\"hare\",\"hawk\",\"herring\",\"honeybee\",\"housefly\",\"kiwi\",\"ladybird\",\"lark\",\"leopard\",\"lion\",\"lobster\",\"lynx\",\"mink\",\"mole\",\"mongoose\",\"moth\",\"newt\",\"octopus\",\"opossum\",\"oryx\",\"ostrich\",\"parakeet\",\"penguin\",\"pheasant\",\"pike\",\"piranha\",\"pitviper\",\"platypus\",\"polecat\",\"pony\",\"porpoise\",\"puma\",\"pussycat\",\"raccoon\",\"reindeer\",\"rhea\",\"scorpion\",\"seahorse\",\"seal\",\"sealion\",\"seasnake\",\"seawasp\",\"skimmer\",\"skua\",\"slowworm\",\"slug\",\"sole\",\"sparrow\",\"squirrel\",\"starfish\",\"stingray\",\"swan\",\"termite\",\"toad\",\"tortoise\",\"tuatara\",\"tuna\",\"vampire\",\"vole\",\"vulture\",\"wallaby\",\"wasp\",\"wolf\",\"worm\",\"wren\"],\"legendgroup\":\"\",\"name\":\"\",\"showlegend\":true,\"values\":[0,1,0,0,0,0,1,1,0,0,0,1,0,1,1,0,0,1,1,0,1,0,0,0,1,1,0,0,0,0,0,0,1,1,0,0,0,1,0,0,0,0,0,0,0,1,0,1,0,0,0,1,1,0,0,0,0,1,0,1,1,0,1,0,0,1,0,0,0,0,0,0,1,1,1,1,1,1,1,0,0,1,0,0,1,1,1,0,1,0,0,1,0,0,0,0,0,0,0,0],\"type\":\"pie\"}],                        {\"template\":{\"data\":{\"histogram2dcontour\":[{\"type\":\"histogram2dcontour\",\"colorbar\":{\"outlinewidth\":0,\"ticks\":\"\"},\"colorscale\":[[0.0,\"#0d0887\"],[0.1111111111111111,\"#46039f\"],[0.2222222222222222,\"#7201a8\"],[0.3333333333333333,\"#9c179e\"],[0.4444444444444444,\"#bd3786\"],[0.5555555555555556,\"#d8576b\"],[0.6666666666666666,\"#ed7953\"],[0.7777777777777778,\"#fb9f3a\"],[0.8888888888888888,\"#fdca26\"],[1.0,\"#f0f921\"]]}],\"choropleth\":[{\"type\":\"choropleth\",\"colorbar\":{\"outlinewidth\":0,\"ticks\":\"\"}}],\"histogram2d\":[{\"type\":\"histogram2d\",\"colorbar\":{\"outlinewidth\":0,\"ticks\":\"\"},\"colorscale\":[[0.0,\"#0d0887\"],[0.1111111111111111,\"#46039f\"],[0.2222222222222222,\"#7201a8\"],[0.3333333333333333,\"#9c179e\"],[0.4444444444444444,\"#bd3786\"],[0.5555555555555556,\"#d8576b\"],[0.6666666666666666,\"#ed7953\"],[0.7777777777777778,\"#fb9f3a\"],[0.8888888888888888,\"#fdca26\"],[1.0,\"#f0f921\"]]}],\"heatmap\":[{\"type\":\"heatmap\",\"colorbar\":{\"outlinewidth\":0,\"ticks\":\"\"},\"colorscale\":[[0.0,\"#0d0887\"],[0.1111111111111111,\"#46039f\"],[0.2222222222222222,\"#7201a8\"],[0.3333333333333333,\"#9c179e\"],[0.4444444444444444,\"#bd3786\"],[0.5555555555555556,\"#d8576b\"],[0.6666666666666666,\"#ed7953\"],[0.7777777777777778,\"#fb9f3a\"],[0.8888888888888888,\"#fdca26\"],[1.0,\"#f0f921\"]]}],\"heatmapgl\":[{\"type\":\"heatmapgl\",\"colorbar\":{\"outlinewidth\":0,\"ticks\":\"\"},\"colorscale\":[[0.0,\"#0d0887\"],[0.1111111111111111,\"#46039f\"],[0.2222222222222222,\"#7201a8\"],[0.3333333333333333,\"#9c179e\"],[0.4444444444444444,\"#bd3786\"],[0.5555555555555556,\"#d8576b\"],[0.6666666666666666,\"#ed7953\"],[0.7777777777777778,\"#fb9f3a\"],[0.8888888888888888,\"#fdca26\"],[1.0,\"#f0f921\"]]}],\"contourcarpet\":[{\"type\":\"contourcarpet\",\"colorbar\":{\"outlinewidth\":0,\"ticks\":\"\"}}],\"contour\":[{\"type\":\"contour\",\"colorbar\":{\"outlinewidth\":0,\"ticks\":\"\"},\"colorscale\":[[0.0,\"#0d0887\"],[0.1111111111111111,\"#46039f\"],[0.2222222222222222,\"#7201a8\"],[0.3333333333333333,\"#9c179e\"],[0.4444444444444444,\"#bd3786\"],[0.5555555555555556,\"#d8576b\"],[0.6666666666666666,\"#ed7953\"],[0.7777777777777778,\"#fb9f3a\"],[0.8888888888888888,\"#fdca26\"],[1.0,\"#f0f921\"]]}],\"surface\":[{\"type\":\"surface\",\"colorbar\":{\"outlinewidth\":0,\"ticks\":\"\"},\"colorscale\":[[0.0,\"#0d0887\"],[0.1111111111111111,\"#46039f\"],[0.2222222222222222,\"#7201a8\"],[0.3333333333333333,\"#9c179e\"],[0.4444444444444444,\"#bd3786\"],[0.5555555555555556,\"#d8576b\"],[0.6666666666666666,\"#ed7953\"],[0.7777777777777778,\"#fb9f3a\"],[0.8888888888888888,\"#fdca26\"],[1.0,\"#f0f921\"]]}],\"mesh3d\":[{\"type\":\"mesh3d\",\"colorbar\":{\"outlinewidth\":0,\"ticks\":\"\"}}],\"scatter\":[{\"fillpattern\":{\"fillmode\":\"overlay\",\"size\":10,\"solidity\":0.2},\"type\":\"scatter\"}],\"parcoords\":[{\"type\":\"parcoords\",\"line\":{\"colorbar\":{\"outlinewidth\":0,\"ticks\":\"\"}}}],\"scatterpolargl\":[{\"type\":\"scatterpolargl\",\"marker\":{\"colorbar\":{\"outlinewidth\":0,\"ticks\":\"\"}}}],\"bar\":[{\"error_x\":{\"color\":\"#2a3f5f\"},\"error_y\":{\"color\":\"#2a3f5f\"},\"marker\":{\"line\":{\"color\":\"#E5ECF6\",\"width\":0.5},\"pattern\":{\"fillmode\":\"overlay\",\"size\":10,\"solidity\":0.2}},\"type\":\"bar\"}],\"scattergeo\":[{\"type\":\"scattergeo\",\"marker\":{\"colorbar\":{\"outlinewidth\":0,\"ticks\":\"\"}}}],\"scatterpolar\":[{\"type\":\"scatterpolar\",\"marker\":{\"colorbar\":{\"outlinewidth\":0,\"ticks\":\"\"}}}],\"histogram\":[{\"marker\":{\"pattern\":{\"fillmode\":\"overlay\",\"size\":10,\"solidity\":0.2}},\"type\":\"histogram\"}],\"scattergl\":[{\"type\":\"scattergl\",\"marker\":{\"colorbar\":{\"outlinewidth\":0,\"ticks\":\"\"}}}],\"scatter3d\":[{\"type\":\"scatter3d\",\"line\":{\"colorbar\":{\"outlinewidth\":0,\"ticks\":\"\"}},\"marker\":{\"colorbar\":{\"outlinewidth\":0,\"ticks\":\"\"}}}],\"scattermapbox\":[{\"type\":\"scattermapbox\",\"marker\":{\"colorbar\":{\"outlinewidth\":0,\"ticks\":\"\"}}}],\"scatterternary\":[{\"type\":\"scatterternary\",\"marker\":{\"colorbar\":{\"outlinewidth\":0,\"ticks\":\"\"}}}],\"scattercarpet\":[{\"type\":\"scattercarpet\",\"marker\":{\"colorbar\":{\"outlinewidth\":0,\"ticks\":\"\"}}}],\"carpet\":[{\"aaxis\":{\"endlinecolor\":\"#2a3f5f\",\"gridcolor\":\"white\",\"linecolor\":\"white\",\"minorgridcolor\":\"white\",\"startlinecolor\":\"#2a3f5f\"},\"baxis\":{\"endlinecolor\":\"#2a3f5f\",\"gridcolor\":\"white\",\"linecolor\":\"white\",\"minorgridcolor\":\"white\",\"startlinecolor\":\"#2a3f5f\"},\"type\":\"carpet\"}],\"table\":[{\"cells\":{\"fill\":{\"color\":\"#EBF0F8\"},\"line\":{\"color\":\"white\"}},\"header\":{\"fill\":{\"color\":\"#C8D4E3\"},\"line\":{\"color\":\"white\"}},\"type\":\"table\"}],\"barpolar\":[{\"marker\":{\"line\":{\"color\":\"#E5ECF6\",\"width\":0.5},\"pattern\":{\"fillmode\":\"overlay\",\"size\":10,\"solidity\":0.2}},\"type\":\"barpolar\"}],\"pie\":[{\"automargin\":true,\"type\":\"pie\"}]},\"layout\":{\"autotypenumbers\":\"strict\",\"colorway\":[\"#636efa\",\"#EF553B\",\"#00cc96\",\"#ab63fa\",\"#FFA15A\",\"#19d3f3\",\"#FF6692\",\"#B6E880\",\"#FF97FF\",\"#FECB52\"],\"font\":{\"color\":\"#2a3f5f\"},\"hovermode\":\"closest\",\"hoverlabel\":{\"align\":\"left\"},\"paper_bgcolor\":\"white\",\"plot_bgcolor\":\"#E5ECF6\",\"polar\":{\"bgcolor\":\"#E5ECF6\",\"angularaxis\":{\"gridcolor\":\"white\",\"linecolor\":\"white\",\"ticks\":\"\"},\"radialaxis\":{\"gridcolor\":\"white\",\"linecolor\":\"white\",\"ticks\":\"\"}},\"ternary\":{\"bgcolor\":\"#E5ECF6\",\"aaxis\":{\"gridcolor\":\"white\",\"linecolor\":\"white\",\"ticks\":\"\"},\"baxis\":{\"gridcolor\":\"white\",\"linecolor\":\"white\",\"ticks\":\"\"},\"caxis\":{\"gridcolor\":\"white\",\"linecolor\":\"white\",\"ticks\":\"\"}},\"coloraxis\":{\"colorbar\":{\"outlinewidth\":0,\"ticks\":\"\"}},\"colorscale\":{\"sequential\":[[0.0,\"#0d0887\"],[0.1111111111111111,\"#46039f\"],[0.2222222222222222,\"#7201a8\"],[0.3333333333333333,\"#9c179e\"],[0.4444444444444444,\"#bd3786\"],[0.5555555555555556,\"#d8576b\"],[0.6666666666666666,\"#ed7953\"],[0.7777777777777778,\"#fb9f3a\"],[0.8888888888888888,\"#fdca26\"],[1.0,\"#f0f921\"]],\"sequentialminus\":[[0.0,\"#0d0887\"],[0.1111111111111111,\"#46039f\"],[0.2222222222222222,\"#7201a8\"],[0.3333333333333333,\"#9c179e\"],[0.4444444444444444,\"#bd3786\"],[0.5555555555555556,\"#d8576b\"],[0.6666666666666666,\"#ed7953\"],[0.7777777777777778,\"#fb9f3a\"],[0.8888888888888888,\"#fdca26\"],[1.0,\"#f0f921\"]],\"diverging\":[[0,\"#8e0152\"],[0.1,\"#c51b7d\"],[0.2,\"#de77ae\"],[0.3,\"#f1b6da\"],[0.4,\"#fde0ef\"],[0.5,\"#f7f7f7\"],[0.6,\"#e6f5d0\"],[0.7,\"#b8e186\"],[0.8,\"#7fbc41\"],[0.9,\"#4d9221\"],[1,\"#276419\"]]},\"xaxis\":{\"gridcolor\":\"white\",\"linecolor\":\"white\",\"ticks\":\"\",\"title\":{\"standoff\":15},\"zerolinecolor\":\"white\",\"automargin\":true,\"zerolinewidth\":2},\"yaxis\":{\"gridcolor\":\"white\",\"linecolor\":\"white\",\"ticks\":\"\",\"title\":{\"standoff\":15},\"zerolinecolor\":\"white\",\"automargin\":true,\"zerolinewidth\":2},\"scene\":{\"xaxis\":{\"backgroundcolor\":\"#E5ECF6\",\"gridcolor\":\"white\",\"linecolor\":\"white\",\"showbackground\":true,\"ticks\":\"\",\"zerolinecolor\":\"white\",\"gridwidth\":2},\"yaxis\":{\"backgroundcolor\":\"#E5ECF6\",\"gridcolor\":\"white\",\"linecolor\":\"white\",\"showbackground\":true,\"ticks\":\"\",\"zerolinecolor\":\"white\",\"gridwidth\":2},\"zaxis\":{\"backgroundcolor\":\"#E5ECF6\",\"gridcolor\":\"white\",\"linecolor\":\"white\",\"showbackground\":true,\"ticks\":\"\",\"zerolinecolor\":\"white\",\"gridwidth\":2}},\"shapedefaults\":{\"line\":{\"color\":\"#2a3f5f\"}},\"annotationdefaults\":{\"arrowcolor\":\"#2a3f5f\",\"arrowhead\":0,\"arrowwidth\":1},\"geo\":{\"bgcolor\":\"white\",\"landcolor\":\"#E5ECF6\",\"subunitcolor\":\"white\",\"showland\":true,\"showlakes\":true,\"lakecolor\":\"white\"},\"title\":{\"x\":0.05},\"mapbox\":{\"style\":\"light\"}}},\"legend\":{\"tracegroupgap\":0},\"title\":{\"text\":\"Grafica de Pie\"}},                        {\"responsive\": true}                    )                };                            </script>        </div>"
      ],
      "text/plain": [
       "Figure({\n",
       "    'data': [{'domain': {'x': [0.0, 1.0], 'y': [0.0, 1.0]},\n",
       "              'hovertemplate': 'animal name=%{label}<br>aquatic=%{value}<extra></extra>',\n",
       "              'labels': array(['antelope', 'bass', 'bear', 'boar', 'buffalo', 'calf', 'carp',\n",
       "                               'catfish', 'cavy', 'cheetah', 'chicken', 'chub', 'clam', 'crab',\n",
       "                               'crayfish', 'crow', 'deer', 'dogfish', 'dolphin', 'dove', 'duck',\n",
       "                               'elephant', 'flamingo', 'flea', 'frog', 'frog', 'fruitbat', 'giraffe',\n",
       "                               'girl', 'gnat', 'goat', 'gorilla', 'gull', 'haddock', 'hamster', 'hare',\n",
       "                               'hawk', 'herring', 'honeybee', 'housefly', 'kiwi', 'ladybird', 'lark',\n",
       "                               'leopard', 'lion', 'lobster', 'lynx', 'mink', 'mole', 'mongoose',\n",
       "                               'moth', 'newt', 'octopus', 'opossum', 'oryx', 'ostrich', 'parakeet',\n",
       "                               'penguin', 'pheasant', 'pike', 'piranha', 'pitviper', 'platypus',\n",
       "                               'polecat', 'pony', 'porpoise', 'puma', 'pussycat', 'raccoon',\n",
       "                               'reindeer', 'rhea', 'scorpion', 'seahorse', 'seal', 'sealion',\n",
       "                               'seasnake', 'seawasp', 'skimmer', 'skua', 'slowworm', 'slug', 'sole',\n",
       "                               'sparrow', 'squirrel', 'starfish', 'stingray', 'swan', 'termite',\n",
       "                               'toad', 'tortoise', 'tuatara', 'tuna', 'vampire', 'vole', 'vulture',\n",
       "                               'wallaby', 'wasp', 'wolf', 'worm', 'wren'], dtype=object),\n",
       "              'legendgroup': '',\n",
       "              'name': '',\n",
       "              'showlegend': True,\n",
       "              'type': 'pie',\n",
       "              'values': array([0, 1, 0, 0, 0, 0, 1, 1, 0, 0, 0, 1, 0, 1, 1, 0, 0, 1, 1, 0, 1, 0, 0, 0,\n",
       "                               1, 1, 0, 0, 0, 0, 0, 0, 1, 1, 0, 0, 0, 1, 0, 0, 0, 0, 0, 0, 0, 1, 0, 1,\n",
       "                               0, 0, 0, 1, 1, 0, 0, 0, 0, 1, 0, 1, 1, 0, 1, 0, 0, 1, 0, 0, 0, 0, 0, 0,\n",
       "                               1, 1, 1, 1, 1, 1, 1, 0, 0, 1, 0, 0, 1, 1, 1, 0, 1, 0, 0, 1, 0, 0, 0, 0,\n",
       "                               0, 0, 0, 0])}],\n",
       "    'layout': {'legend': {'tracegroupgap': 0}, 'template': '...', 'title': {'text': 'Grafica de Pie'}}\n",
       "})"
      ]
     },
     "execution_count": 20,
     "metadata": {},
     "output_type": "execute_result"
    }
   ],
   "source": [
    "px.pie(df_zoo, values='aquatic', names='animal name', title='Grafica de Pie')"
   ]
  }
 ],
 "metadata": {
  "kernelspec": {
   "display_name": "envData",
   "language": "python",
   "name": "python3"
  },
  "language_info": {
   "codemirror_mode": {
    "name": "ipython",
    "version": 3
   },
   "file_extension": ".py",
   "mimetype": "text/x-python",
   "name": "python",
   "nbconvert_exporter": "python",
   "pygments_lexer": "ipython3",
   "version": "3.11.8"
  }
 },
 "nbformat": 4,
 "nbformat_minor": 2
}
