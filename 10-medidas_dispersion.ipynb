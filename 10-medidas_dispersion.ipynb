{
 "cells": [
  {
   "cell_type": "markdown",
   "metadata": {},
   "source": [
    "## Las medidas de dispersion: es el grado en que una distribucion se estira o se comprime. \n",
    "-   ### Desviacion estandar: \n",
    "    -   #### Se utiliza para calcular la variacion o dispersion en la que los puntos de datos individuales difieren de la media. Una desviacion baja indica que los puntos de datos estan muy cerca de la media, mientras que una desviacion alta muestra que los datos estan dispersos en un rango mayor de valores.\n",
    "    -   #### La formula: a cada dato le resta la media y el resustaldo se eleva a 2, estos para cada muestra o dato, haces la suma de todos los resultados , lo divides entre el numero de datos -1 y le haces la raiz cuadrada. Raiz(  Sum(x¹-xmedia)² / n -1 )\n",
    "-   ### Varianza:\n",
    "    - #### Representa la variabilidad de una serie de datos respecto a su media.\n",
    "-   ### Asimetria estadistica (skewness) :\n",
    "    - #### Son indicadores que permiten establecer el grado de simetria( o asimetria) que presenta una distribucion de probabilidad de una variable aleatoria sin tener que hacer su representacion grafica\n",
    "-   ### Curtosis:\n",
    "    -   #### La curtosis de una variable ees una caracteristica de forma de sus distribucino de frecuencias(probabilidad)\n",
    "    -   #### Ej: los dados de catan , los numeros tienen puntos debajo, esos muestra la curtosis de cada una de ellos"
   ]
  }
 ],
 "metadata": {
  "language_info": {
   "name": "python"
  }
 },
 "nbformat": 4,
 "nbformat_minor": 2
}
