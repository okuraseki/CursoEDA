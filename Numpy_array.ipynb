{
  "nbformat": 4,
  "nbformat_minor": 0,
  "metadata": {
    "colab": {
      "provenance": [],
      "authorship_tag": "ABX9TyPB0vpHk26BsPGiHbxLj7ci",
      "include_colab_link": true
    },
    "kernelspec": {
      "name": "python3",
      "display_name": "Python 3"
    },
    "language_info": {
      "name": "python"
    }
  },
  "cells": [
    {
      "cell_type": "markdown",
      "metadata": {
        "id": "view-in-github",
        "colab_type": "text"
      },
      "source": [
        "<a href=\"https://colab.research.google.com/github/okuraseki/CursoEDA/blob/main/Numpy_array.ipynb\" target=\"_parent\"><img src=\"https://colab.research.google.com/assets/colab-badge.svg\" alt=\"Open In Colab\"/></a>"
      ]
    },
    {
      "cell_type": "code",
      "execution_count": 2,
      "metadata": {
        "id": "KO5uR51VaGNy"
      },
      "outputs": [],
      "source": [
        "import numpy as np\n",
        "import pandas as pn\n",
        "\n"
      ]
    },
    {
      "cell_type": "markdown",
      "source": [
        "\n",
        "¿Por qué NumPy?\n",
        "\n",
        "Es una librería enfocada al cálculo númerico y manejo de Arrays.\n",
        "\n",
        "    Es muy veloz, hasta 50 veces más rápido que usar una lista de Python o C.\n",
        "    Optimiza el almacenamiento en memoria.\n",
        "    Además, maneja distintos tipos de datos.\n",
        "\n",
        "Es una librería muy poderosa, se pueden crear redes neuronales desde cero.\n",
        "¿Por qué Pandas?\n",
        "\n",
        "Pandas está enfocada a la manipulación y análisis de datos.\n",
        "\n",
        "    Al estar construido sobre NumPy veloz.\n",
        "    Requiere poco código para manipular los datos.\n",
        "    Soporta múltiples formatos de archivos.\n",
        "    Ordena los datos en una alienación inteligente.\n",
        "\n",
        "Se pueden manejar grandes cantidades de datos, hacer analítica y crear dahsboards.\n",
        "\n",
        "La forma de importar estas librerías es de la siguiente manera:"
      ],
      "metadata": {
        "id": "umUl82lulkGV"
      }
    },
    {
      "cell_type": "code",
      "source": [],
      "metadata": {
        "id": "4WWZMSPVmIJI"
      },
      "execution_count": null,
      "outputs": []
    },
    {
      "cell_type": "markdown",
      "source": [
        "NumPy Array\n",
        "\n",
        "El array es el principal objeto de la librería. Representa datos de manera estructurada y se puede acceder a ellos a traves del indexado, a un dato específico o un grupo de muchos datos específicos."
      ],
      "metadata": {
        "id": "tsJqphoEmVjZ"
      }
    },
    {
      "cell_type": "code",
      "source": [
        "lista = [1, 2 , 3, 4, 5, 6, 7, 8, 9]\n",
        "\n",
        "\n",
        "arr = np.array(lista)\n",
        "\n"
      ],
      "metadata": {
        "id": "Gp34DFpVmeZk"
      },
      "execution_count": 5,
      "outputs": []
    },
    {
      "cell_type": "code",
      "source": [
        "type(arr)"
      ],
      "metadata": {
        "colab": {
          "base_uri": "https://localhost:8080/"
        },
        "id": "k6CXIBtTmzsA",
        "outputId": "22a7f4a6-6715-4741-bd5c-442d19147d6a"
      },
      "execution_count": 6,
      "outputs": [
        {
          "output_type": "execute_result",
          "data": {
            "text/plain": [
              "numpy.ndarray"
            ]
          },
          "metadata": {},
          "execution_count": 6
        }
      ]
    },
    {
      "cell_type": "code",
      "source": [
        "matriz = [[1, 2, 3], [4, 5, 6], [7, 8, 9]]\n",
        "matriz = np.array(matriz)\n",
        "matriz"
      ],
      "metadata": {
        "colab": {
          "base_uri": "https://localhost:8080/"
        },
        "id": "B0iM6tqLm4nt",
        "outputId": "379bdca4-4edf-4cc3-807f-53f39e4e87a6"
      },
      "execution_count": 8,
      "outputs": [
        {
          "output_type": "execute_result",
          "data": {
            "text/plain": [
              "array([[1, 2, 3],\n",
              "       [4, 5, 6],\n",
              "       [7, 8, 9]])"
            ]
          },
          "metadata": {},
          "execution_count": 8
        }
      ]
    },
    {
      "cell_type": "markdown",
      "source": [
        "Indexado:\n",
        "Slicing de una matriz"
      ],
      "metadata": {
        "id": "2eBEL47WnDJj"
      }
    },
    {
      "cell_type": "code",
      "source": [
        "matriz[1: , 0:2]"
      ],
      "metadata": {
        "colab": {
          "base_uri": "https://localhost:8080/"
        },
        "id": "a3M8i0ncnGga",
        "outputId": "39f45315-d2d4-4cdd-f791-1dbba001c314"
      },
      "execution_count": 9,
      "outputs": [
        {
          "output_type": "execute_result",
          "data": {
            "text/plain": [
              "array([[4, 5],\n",
              "       [7, 8]])"
            ]
          },
          "metadata": {},
          "execution_count": 9
        }
      ]
    },
    {
      "cell_type": "markdown",
      "source": [
        "Esta forma de indexar o hacer slicing es propia del arrya de np"
      ],
      "metadata": {
        "id": "f1zewQktoBph"
      }
    },
    {
      "cell_type": "code",
      "source": [
        "## Generar un array con numpy, por defecto es tipo int\n",
        "arr = np.array([1,2,3,4])\n",
        "arr.dtype\n",
        "# dtype es una propiedad del objeto np.array"
      ],
      "metadata": {
        "colab": {
          "base_uri": "https://localhost:8080/"
        },
        "id": "mnFsH2zmn01T",
        "outputId": "6c3539f6-fee1-4840-a1c3-2bdbe993d5e4"
      },
      "execution_count": 14,
      "outputs": [
        {
          "output_type": "execute_result",
          "data": {
            "text/plain": [
              "dtype('int64')"
            ]
          },
          "metadata": {},
          "execution_count": 14
        }
      ]
    },
    {
      "cell_type": "code",
      "source": [
        "# Define el tipo de dato que quiere que sea cada elemento del array\n",
        "arr = np.array([1,2,3,4], dtype='float64')\n",
        "arr.dtype"
      ],
      "metadata": {
        "colab": {
          "base_uri": "https://localhost:8080/"
        },
        "id": "Erhn4ynBoryJ",
        "outputId": "4431adf1-b1fc-4023-8d50-4b1b16304f48"
      },
      "execution_count": 12,
      "outputs": [
        {
          "output_type": "execute_result",
          "data": {
            "text/plain": [
              "dtype('float64')"
            ]
          },
          "metadata": {},
          "execution_count": 12
        }
      ]
    },
    {
      "cell_type": "code",
      "source": [
        "# convertir a otro tipo, muy util para redes neuronales que suelen usar datos tipo float64\n",
        "arr = arr.astype(np.float64)\n",
        "# funcion astype cambia el tipo al formato indicado"
      ],
      "metadata": {
        "id": "rfDKSljFornd"
      },
      "execution_count": 15,
      "outputs": []
    },
    {
      "cell_type": "code",
      "source": [
        "# Tipo booleano\n",
        "arr = np.array([0,1,2,3,4])\n",
        "arr = arr.astype(np.bool_)\n",
        "arr"
      ],
      "metadata": {
        "colab": {
          "base_uri": "https://localhost:8080/"
        },
        "id": "gdJYATnJpq_7",
        "outputId": "bea954af-60f5-4a4a-b565-a69cf7a95ed6"
      },
      "execution_count": 16,
      "outputs": [
        {
          "output_type": "execute_result",
          "data": {
            "text/plain": [
              "array([False,  True,  True,  True,  True])"
            ]
          },
          "metadata": {},
          "execution_count": 16
        }
      ]
    },
    {
      "cell_type": "code",
      "source": [
        "# Tipo string\n",
        "arr = np.array([0,1,2,3,4])\n",
        "arr = arr.astype(np.string_)\n",
        "arr"
      ],
      "metadata": {
        "colab": {
          "base_uri": "https://localhost:8080/"
        },
        "id": "vSpJYpiDp3OM",
        "outputId": "aab7bd1b-1000-4178-cbcf-25edcf220c9f"
      },
      "execution_count": 17,
      "outputs": [
        {
          "output_type": "execute_result",
          "data": {
            "text/plain": [
              "array([b'0', b'1', b'2', b'3', b'4'], dtype='|S21')"
            ]
          },
          "metadata": {},
          "execution_count": 17
        }
      ]
    },
    {
      "cell_type": "code",
      "source": [
        "# Tipo int\n",
        "arr = np.array(['0','1','2','3','4'])\n",
        "arr = arr.astype(np.int8)\n",
        "arr"
      ],
      "metadata": {
        "colab": {
          "base_uri": "https://localhost:8080/"
        },
        "id": "DuuXDebfp9-V",
        "outputId": "92c2fa71-360c-4539-bff8-b1b3999eddca"
      },
      "execution_count": 18,
      "outputs": [
        {
          "output_type": "execute_result",
          "data": {
            "text/plain": [
              "array([0, 1, 2, 3, 4], dtype=int8)"
            ]
          },
          "metadata": {},
          "execution_count": 18
        }
      ]
    }
  ]
}